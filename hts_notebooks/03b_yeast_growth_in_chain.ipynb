{
 "cells": [
  {
   "cell_type": "markdown",
   "metadata": {},
   "source": [
    "## YEAST GROWTH KINETICS in Chain\n",
    "\n",
    "by Anastasia Abashidze\n",
    "\n",
    "\n",
    "Blavatnik Center for Drug Discovery\n",
    "***"
   ]
  },
  {
   "cell_type": "markdown",
   "metadata": {},
   "source": [
    "__As we learned how to analyse one plate, we can run the analysis for plates in chain using functions we wrote.__"
   ]
  },
  {
   "cell_type": "markdown",
   "metadata": {},
   "source": [
    "## The Workflow\n",
    "\n",
    "[Import Packages and create Output Folder](#import)\n",
    "\n",
    "[Define Parameters](#parameters)\n",
    "\n",
    "[Run Plates](#run_plates)   \n",
    "\n",
    "[Create Screen Results Matrix](#results_matrix) \n",
    "\n",
    "[Plot all Plates in the Screen](#plot_all_plates)\n",
    "\n",
    " ***"
   ]
  },
  {
   "cell_type": "markdown",
   "metadata": {},
   "source": [
    "### Import Packages and create Output Folder\n",
    "<a id=\"import\"></a>"
   ]
  },
  {
   "cell_type": "code",
   "execution_count": 19,
   "metadata": {},
   "outputs": [],
   "source": [
    "from nbdev.showdoc import *\n",
    "import os\n",
    "import sys\n",
    "sys.path.append('..//')\n",
    "import pandas as pd\n",
    "import numpy as np\n",
    "from scipy import stats\n",
    "import matplotlib as mpl\n",
    "%matplotlib inline\n",
    "import matplotlib.colors as colors\n",
    "import matplotlib.pyplot as plt\n",
    "import seaborn as sns\n",
    "sns.set(context = 'notebook', style = 'white', palette = 'dark')\n",
    "from IPython.display import Image\n",
    "import simplydrug as sd"
   ]
  },
  {
   "cell_type": "markdown",
   "metadata": {},
   "source": [
    "#### Create folder to save the output"
   ]
  },
  {
   "cell_type": "code",
   "execution_count": 20,
   "metadata": {},
   "outputs": [
    {
     "name": "stdout",
     "output_type": "stream",
     "text": [
      "Output folder created\n"
     ]
    }
   ],
   "source": [
    "path = ('yeast_output_chain') \n",
    "if not os.path.exists(path):\n",
    "    os.mkdir(path)\n",
    "    print('Output folder created')"
   ]
  },
  {
   "cell_type": "markdown",
   "metadata": {},
   "source": [
    "### Define Parameters\n",
    "<a id=\"parameters\"></a>"
   ]
  },
  {
   "cell_type": "code",
   "execution_count": 3,
   "metadata": {},
   "outputs": [],
   "source": [
    "# path to data\n",
    "data_path = os.listdir('test_data//yeast_data//Readings')\n",
    "\n",
    "#path to chemical library\n",
    "chem_path = 'test_data//compounds//example_chemicals.csv'\n",
    "\n",
    "# which chemical library plates to load \n",
    "chem_plates = ['ex_plate1', 'ex_plate2']\n",
    "\n",
    "# how to name the output files\n",
    "names = ['ex_plate1_run1', 'ex_plate2_run1']\n",
    "\n",
    "# path to layout\n",
    "layout_path = 'test_data//yeast_data//yeast_screen_layout.xlsx'\n",
    "\n",
    "# define threshold\n",
    "threshold = 2.5\n",
    "\n",
    "# define palette\n",
    "palette = {'Sample':'Navy','Negative':'Darkred','Positive':'Darkgreen', 'Hit': 'Orange', 'Invalid_sample':'Darkgray'}\n",
    "hue_order = ['Sample', 'Negative', 'Positive', 'Hit', 'Invalid_sample']"
   ]
  },
  {
   "cell_type": "markdown",
   "metadata": {},
   "source": [
    "### Run Plates\n",
    "<a id=\"run_plates\"></a>"
   ]
  },
  {
   "cell_type": "code",
   "execution_count": 4,
   "metadata": {},
   "outputs": [
    {
     "name": "stdout",
     "output_type": "stream",
     "text": [
      "['yeast_plate1.csv', 'yeast_plate2.csv']\n",
      "['ex_plate1', 'ex_plate2']\n",
      "test_data//yeast_data//yeast_screen_layout.xlsx\n"
     ]
    }
   ],
   "source": [
    "print(data_path)\n",
    "print(chem_plates)\n",
    "print(layout_path)"
   ]
  },
  {
   "cell_type": "code",
   "execution_count": 5,
   "metadata": {},
   "outputs": [
    {
     "name": "stdout",
     "output_type": "stream",
     "text": [
      "yeast_plate1.csv\n"
     ]
    },
    {
     "name": "stderr",
     "output_type": "stream",
     "text": [
      "INFO:root:add_layout: added Well\n",
      "INFO:root:add_layout: added Status\n",
      "INFO:root:add_layout: added Compounds: ex_plate1 \n",
      "\n",
      "INFO:root:rejected well: A14, -0.7773373223635003\n",
      "INFO:root:rejected well: B14, -0.2510783428628749\n",
      "INFO:root:rejected well: C10\n",
      "INFO:root:rejected well: C12, -0.7693703118392058\n",
      "INFO:root:rejected well: C14\n",
      "INFO:root:rejected well: C15\n",
      "INFO:root:rejected well: D10, -0.6657279697424408\n",
      "INFO:root:rejected well: D12, -0.7691103861752777\n",
      "INFO:root:rejected well: D13, -0.8135046310128473\n",
      "INFO:root:rejected well: D15\n",
      "INFO:root:rejected well: D9\n",
      "INFO:root:rejected well: E12\n",
      "INFO:root:rejected well: E13\n",
      "INFO:root:rejected well: F12\n",
      "INFO:root:rejected well: F17\n",
      "INFO:root:rejected well: F9\n",
      "INFO:root:rejected well: G11, -0.3848803480783176\n",
      "INFO:root:rejected well: G12\n",
      "INFO:root:rejected well: G13, -0.3949992513849379\n",
      "INFO:root:rejected well: G14, -0.2263380043896675\n",
      "INFO:root:rejected well: G9\n",
      "INFO:root:rejected well: H15, -0.4171749479321631\n",
      "INFO:root:rejected well: H16, -0.21731109232070106\n",
      "INFO:root:rejected well: H18\n",
      "INFO:root:rejected well: I11, -0.8239254101781283\n",
      "INFO:root:rejected well: I12\n",
      "INFO:root:rejected well: I13\n",
      "INFO:root:rejected well: I14, -0.7230874266523969\n",
      "INFO:root:rejected well: I15\n",
      "INFO:root:rejected well: I16\n",
      "INFO:root:rejected well: J11\n",
      "INFO:root:rejected well: J12, -0.6487640943496968\n",
      "INFO:root:rejected well: J14\n",
      "INFO:root:rejected well: J7, -0.29337793720527183\n",
      "INFO:root:rejected well: K14\n",
      "INFO:root:rejected well: K15, -0.5974871454635926\n",
      "INFO:root:rejected well: L11, -0.8688461538461538\n",
      "INFO:root:rejected well: L12\n",
      "INFO:root:rejected well: L14, -0.7530531400966184\n",
      "INFO:root:rejected well: M18\n",
      "INFO:root:rejected well: M4, -0.8388957270968875\n",
      "INFO:root:rejected well: N13\n",
      "INFO:root:rejected well: N16\n",
      "INFO:root:rejected well: O10, -0.30153059552292616\n",
      "INFO:root:rejected well: O21, -0.2858205189493534\n",
      "INFO:root:plot_curve_raw: all_curves.png saved to the output folder\n",
      "INFO:root:plot_curve_raw: invalid_curves.png saved to the output folder\n",
      "INFO:root:plot_curve_raw: valid_curves.png saved to the output folder\n",
      "INFO:root:pointplot_plate: pointplot.png saved to the output folder\n",
      "INFO:root:heatmap_plate: gscore_normheatmap.png saved to the output folder\n",
      "INFO:root:histogram_feature: gscore_norm_histogram.png saved to the output folder\n"
     ]
    },
    {
     "name": "stdout",
     "output_type": "stream",
     "text": [
      "yeast_plate2.csv\n"
     ]
    },
    {
     "name": "stderr",
     "output_type": "stream",
     "text": [
      "INFO:root:add_layout: added Well\n",
      "INFO:root:add_layout: added Status\n",
      "INFO:root:add_layout: added Compounds: ex_plate2 \n",
      "\n",
      "INFO:root:rejected well: B8, -0.40168727029736057\n",
      "INFO:root:rejected well: E8, -0.6159217284265038\n",
      "INFO:root:rejected well: G3, -0.2834096491494072\n",
      "INFO:root:rejected well: I20, -0.2049070432606364\n",
      "INFO:root:plot_curve_raw: all_curves.png saved to the output folder\n",
      "INFO:root:plot_curve_raw: invalid_curves.png saved to the output folder\n",
      "INFO:root:plot_curve_raw: valid_curves.png saved to the output folder\n",
      "INFO:root:pointplot_plate: pointplot.png saved to the output folder\n",
      "INFO:root:heatmap_plate: gscore_normheatmap.png saved to the output folder\n",
      "INFO:root:histogram_feature: gscore_norm_histogram.png saved to the output folder\n"
     ]
    }
   ],
   "source": [
    "count = 0\n",
    "\n",
    "for file in data_path:\n",
    "    print(file)\n",
    "    \n",
    "    # load, add layout and filter curves\n",
    "    data = pd.read_csv('test_data//yeast_data//Readings//' + file).drop(columns = ['Plate'])\n",
    "    gs_data = sd.get_growth_scores(data)\n",
    "    gs_data = sd.add_layout(df = gs_data, layout_path = layout_path, \n",
    "                         chem_path = chem_path, chem_plate = chem_plates[count])\n",
    "    gs_data = sd.filter_curves(gs_data)\n",
    "    results = gs_data.drop_duplicates(subset = ['Well']) \n",
    "\n",
    "    # normalize results\n",
    "    results = sd.normalize_z(results.copy(), 'gscore')\n",
    "\n",
    "    # select hits\n",
    "    results['Result'] = np.where((results['gscore_norm'] >= threshold) & (results['Result'] =='Sample'), 'Hit', \n",
    "                                 results['Result']) \n",
    "\n",
    "    # update 'Result' in gs_data'\n",
    "    gs_data =  pd.merge(gs_data[['Well', 'Time', 'OD', 'grate', 'gscore', \n",
    "                                 'Status', 'Plate', 'Compound_id']],results[['Well', 'Result']], how = 'left', on = 'Well')\n",
    "    \n",
    "    # plots\n",
    "    sd.plot_curve_raw(df = gs_data, x = 'Time', y = 'OD', units = 'Well', hue = 'Result', hue_order = hue_order, \n",
    "                   ylabel = 'OD', xlabel = 'Time, h', xlimit = 24, \n",
    "                   palette = palette, path = path, save_as = 'all_curves.png')\n",
    "    \n",
    "    invalid = gs_data[gs_data['Result'] == 'Invalid_sample']\n",
    "    valid = gs_data[gs_data['Result'] != 'Invalid_curve']\n",
    "    \n",
    "    sd.plot_curve_raw(df = invalid, x = 'Time', y = 'OD', units = 'Well', hue = 'Result', hue_order = ['Invalid_sample'],  \n",
    "                           ylabel = 'OD', xlabel = 'Time, h', xlimit = 24, \n",
    "                   palette = palette, path = path, save_as = 'invalid_curves.png')\n",
    "    \n",
    "    sd.plot_curve_raw(df = valid, x = 'Time', y = 'OD', units = 'Well', hue = 'Result', \n",
    "                              hue_order = ['Sample', 'Negative', 'Positive', 'Hit'],\n",
    "                              ylabel = 'OD', xlabel = 'Time, h', \n",
    "                   xlimit = 24, palette = palette, path = path, save_as = 'valid_curves.png')\n",
    "    \n",
    "    sd.pointplot_plate(df = results, x = 'Well', y = 'gscore_norm', hue = 'Result',hue_order = hue_order,\n",
    "                 threshold = 2.5, ylabel = 'gscore normalized', \n",
    "                   palette = palette,  save_as = 'pointplot.png',  path =  path)\n",
    "    \n",
    "    sd.heatmap_plate(df = results, layout_path =layout_path, features = ['gscore_norm'], path = path, save_as = 'heatmap.png')\n",
    "    \n",
    "    #calculate statistics\n",
    "    stats = sd.run_statistics(df = results,  feature = 'gscore_norm')\n",
    "    if not stats.empty:\n",
    "        stats.to_csv(path + '//sum_statistics.csv', index = False)\n",
    "\n",
    "    # histogram gscore-norm\n",
    "    sd.histogram_feature(df = results, feature = 'gscore_norm', path = path, save_as = 'gscore_norm_histogram.png')\n",
    "    results['Plate'] = names[count]\n",
    "    \n",
    "    #save files\n",
    "    results = results[['Plate', 'Well', 'Compound_id', 'Result', 'gscore', 'gscore_norm', 'SMILES', 'Compound Name', 'SecName']]\n",
    "    results.to_csv(path + '//' + names[count] + '_yeast_results.csv', index = False)\n",
    "    hits = results[results['Result'] == 'Hit'].to_csv(path + '//' + names[count] + '_yeast_hits.csv', index = False)\n",
    "    report = sd.create_presentation(path).save(path +'//' + names[count] + '_yeast_kinetics_report.pptx')\n",
    "    \n",
    "    # Clean pictures from output directory\n",
    "    for f in os.listdir(path):\n",
    "        if '.png' in f:\n",
    "            os.remove(path +'//' + f)\n",
    "    os.remove(path + '//sum_statistics.csv')\n",
    "    os.remove(path + '//' + names[count] + '_yeast_hits.csv')\n",
    "    \n",
    "    count = count + 1 "
   ]
  },
  {
   "cell_type": "markdown",
   "metadata": {},
   "source": [
    "### Create Screen Results Matrix\n",
    "<a id=\"results_matrix\"></a>\n",
    "__Create screen table from all plates (csv files) in the output directory.__"
   ]
  },
  {
   "cell_type": "code",
   "execution_count": 6,
   "metadata": {},
   "outputs": [
    {
     "name": "stdout",
     "output_type": "stream",
     "text": [
      "Added  ex_plate2_run1_yeast_results.csv\n",
      "Added  ex_plate1_run1_yeast_results.csv\n",
      "(768, 9)\n"
     ]
    },
    {
     "data": {
      "text/html": [
       "<div>\n",
       "<style scoped>\n",
       "    .dataframe tbody tr th:only-of-type {\n",
       "        vertical-align: middle;\n",
       "    }\n",
       "\n",
       "    .dataframe tbody tr th {\n",
       "        vertical-align: top;\n",
       "    }\n",
       "\n",
       "    .dataframe thead th {\n",
       "        text-align: right;\n",
       "    }\n",
       "</style>\n",
       "<table border=\"1\" class=\"dataframe\">\n",
       "  <thead>\n",
       "    <tr style=\"text-align: right;\">\n",
       "      <th></th>\n",
       "      <th>Plate</th>\n",
       "      <th>Well</th>\n",
       "      <th>Compound_id</th>\n",
       "      <th>Result</th>\n",
       "      <th>gscore</th>\n",
       "      <th>gscore_norm</th>\n",
       "      <th>SMILES</th>\n",
       "      <th>Compound Name</th>\n",
       "      <th>SecName</th>\n",
       "    </tr>\n",
       "  </thead>\n",
       "  <tbody>\n",
       "    <tr>\n",
       "      <th>0</th>\n",
       "      <td>ex_plate2_run1</td>\n",
       "      <td>A1</td>\n",
       "      <td>NaN</td>\n",
       "      <td>Negative</td>\n",
       "      <td>0.747637</td>\n",
       "      <td>1.119000</td>\n",
       "      <td>NaN</td>\n",
       "      <td>NaN</td>\n",
       "      <td>NaN</td>\n",
       "    </tr>\n",
       "    <tr>\n",
       "      <th>1</th>\n",
       "      <td>ex_plate2_run1</td>\n",
       "      <td>A10</td>\n",
       "      <td>Compound_0327</td>\n",
       "      <td>Sample</td>\n",
       "      <td>0.378760</td>\n",
       "      <td>-1.178391</td>\n",
       "      <td>c1ccc(C2c3ccsc3CCN2Cc2nc(-c3ccco3)no2)cc1</td>\n",
       "      <td>NaN</td>\n",
       "      <td>NaN</td>\n",
       "    </tr>\n",
       "    <tr>\n",
       "      <th>2</th>\n",
       "      <td>ex_plate2_run1</td>\n",
       "      <td>A11</td>\n",
       "      <td>Compound_0328</td>\n",
       "      <td>Sample</td>\n",
       "      <td>0.686488</td>\n",
       "      <td>0.738162</td>\n",
       "      <td>Cc1ccc(N(C(=O)COc2ccc(Br)cc2)C2C=CS(=O)(=O)C2)cc1</td>\n",
       "      <td>NaN</td>\n",
       "      <td>NaN</td>\n",
       "    </tr>\n",
       "  </tbody>\n",
       "</table>\n",
       "</div>"
      ],
      "text/plain": [
       "            Plate Well    Compound_id    Result    gscore  gscore_norm  \\\n",
       "0  ex_plate2_run1   A1            NaN  Negative  0.747637     1.119000   \n",
       "1  ex_plate2_run1  A10  Compound_0327    Sample  0.378760    -1.178391   \n",
       "2  ex_plate2_run1  A11  Compound_0328    Sample  0.686488     0.738162   \n",
       "\n",
       "                                              SMILES Compound Name SecName  \n",
       "0                                                NaN           NaN     NaN  \n",
       "1          c1ccc(C2c3ccsc3CCN2Cc2nc(-c3ccco3)no2)cc1           NaN     NaN  \n",
       "2  Cc1ccc(N(C(=O)COc2ccc(Br)cc2)C2C=CS(=O)(=O)C2)cc1           NaN     NaN  "
      ]
     },
     "metadata": {},
     "output_type": "display_data"
    }
   ],
   "source": [
    "screen = pd.DataFrame()\n",
    "for p in [f for f in os.listdir(path) if 'results' in f]:\n",
    "    screen = screen.append(pd.read_csv(path + '//' + p))\n",
    "    print('Added ', p)\n",
    "print(screen.shape)\n",
    "display(screen.head(3))"
   ]
  },
  {
   "cell_type": "markdown",
   "metadata": {},
   "source": [
    "#### Reorder columns and clean data"
   ]
  },
  {
   "cell_type": "code",
   "execution_count": 7,
   "metadata": {},
   "outputs": [
    {
     "name": "stdout",
     "output_type": "stream",
     "text": [
      "(768, 9)\n"
     ]
    },
    {
     "data": {
      "text/html": [
       "<div>\n",
       "<style scoped>\n",
       "    .dataframe tbody tr th:only-of-type {\n",
       "        vertical-align: middle;\n",
       "    }\n",
       "\n",
       "    .dataframe tbody tr th {\n",
       "        vertical-align: top;\n",
       "    }\n",
       "\n",
       "    .dataframe thead th {\n",
       "        text-align: right;\n",
       "    }\n",
       "</style>\n",
       "<table border=\"1\" class=\"dataframe\">\n",
       "  <thead>\n",
       "    <tr style=\"text-align: right;\">\n",
       "      <th></th>\n",
       "      <th>Plate</th>\n",
       "      <th>Well</th>\n",
       "      <th>Result</th>\n",
       "      <th>gscore</th>\n",
       "      <th>gscore_norm</th>\n",
       "      <th>Compound_id</th>\n",
       "      <th>SMILES</th>\n",
       "      <th>Compound Name</th>\n",
       "      <th>SecName</th>\n",
       "    </tr>\n",
       "  </thead>\n",
       "  <tbody>\n",
       "    <tr>\n",
       "      <th>0</th>\n",
       "      <td>ex_plate2_run1</td>\n",
       "      <td>A1</td>\n",
       "      <td>Negative</td>\n",
       "      <td>0.747637</td>\n",
       "      <td>1.119000</td>\n",
       "      <td>NaN</td>\n",
       "      <td>NaN</td>\n",
       "      <td>NaN</td>\n",
       "      <td>NaN</td>\n",
       "    </tr>\n",
       "    <tr>\n",
       "      <th>1</th>\n",
       "      <td>ex_plate2_run1</td>\n",
       "      <td>A10</td>\n",
       "      <td>Sample</td>\n",
       "      <td>0.378760</td>\n",
       "      <td>-1.178391</td>\n",
       "      <td>Compound_0327</td>\n",
       "      <td>c1ccc(C2c3ccsc3CCN2Cc2nc(-c3ccco3)no2)cc1</td>\n",
       "      <td>NaN</td>\n",
       "      <td>NaN</td>\n",
       "    </tr>\n",
       "    <tr>\n",
       "      <th>2</th>\n",
       "      <td>ex_plate2_run1</td>\n",
       "      <td>A11</td>\n",
       "      <td>Sample</td>\n",
       "      <td>0.686488</td>\n",
       "      <td>0.738162</td>\n",
       "      <td>Compound_0328</td>\n",
       "      <td>Cc1ccc(N(C(=O)COc2ccc(Br)cc2)C2C=CS(=O)(=O)C2)cc1</td>\n",
       "      <td>NaN</td>\n",
       "      <td>NaN</td>\n",
       "    </tr>\n",
       "  </tbody>\n",
       "</table>\n",
       "</div>"
      ],
      "text/plain": [
       "            Plate Well    Result    gscore  gscore_norm    Compound_id  \\\n",
       "0  ex_plate2_run1   A1  Negative  0.747637     1.119000            NaN   \n",
       "1  ex_plate2_run1  A10    Sample  0.378760    -1.178391  Compound_0327   \n",
       "2  ex_plate2_run1  A11    Sample  0.686488     0.738162  Compound_0328   \n",
       "\n",
       "                                              SMILES Compound Name SecName  \n",
       "0                                                NaN           NaN     NaN  \n",
       "1          c1ccc(C2c3ccsc3CCN2Cc2nc(-c3ccco3)no2)cc1           NaN     NaN  \n",
       "2  Cc1ccc(N(C(=O)COc2ccc(Br)cc2)C2C=CS(=O)(=O)C2)cc1           NaN     NaN  "
      ]
     },
     "metadata": {},
     "output_type": "display_data"
    }
   ],
   "source": [
    "screen = screen[['Plate', 'Well', 'Result', 'gscore', 'gscore_norm', 'Compound_id','SMILES', 'Compound Name', \n",
    "                                             'SecName' ]]\n",
    "screen = screen.drop_duplicates(subset = ['Plate', 'Well'])\n",
    "screen = screen[screen['Result'] != 'Reference']\n",
    "print(screen.shape)\n",
    "display(screen.head(3))"
   ]
  },
  {
   "cell_type": "markdown",
   "metadata": {},
   "source": [
    "#### Create matrix from all plates in the screen"
   ]
  },
  {
   "cell_type": "code",
   "execution_count": 8,
   "metadata": {},
   "outputs": [
    {
     "name": "stdout",
     "output_type": "stream",
     "text": [
      "['ex_plate2_run1' 'ex_plate1_run1']\n",
      "639\n"
     ]
    }
   ],
   "source": [
    "# print plate names\n",
    "print(screen.Plate.unique())\n",
    "print(len(screen.Compound_id.unique()))"
   ]
  },
  {
   "cell_type": "code",
   "execution_count": 9,
   "metadata": {},
   "outputs": [
    {
     "name": "stdout",
     "output_type": "stream",
     "text": [
      "(638, 6)\n"
     ]
    },
    {
     "data": {
      "text/html": [
       "<div>\n",
       "<style scoped>\n",
       "    .dataframe tbody tr th:only-of-type {\n",
       "        vertical-align: middle;\n",
       "    }\n",
       "\n",
       "    .dataframe tbody tr th {\n",
       "        vertical-align: top;\n",
       "    }\n",
       "\n",
       "    .dataframe thead th {\n",
       "        text-align: right;\n",
       "    }\n",
       "</style>\n",
       "<table border=\"1\" class=\"dataframe\">\n",
       "  <thead>\n",
       "    <tr style=\"text-align: right;\">\n",
       "      <th></th>\n",
       "      <th>Compound_id</th>\n",
       "      <th>ex_plate1_run1</th>\n",
       "      <th>ex_plate2_run1</th>\n",
       "      <th>SMILES</th>\n",
       "      <th>Compound Name</th>\n",
       "      <th>SecName</th>\n",
       "    </tr>\n",
       "  </thead>\n",
       "  <tbody>\n",
       "    <tr>\n",
       "      <th>0</th>\n",
       "      <td>Compound_0327</td>\n",
       "      <td>NaN</td>\n",
       "      <td>-1.18</td>\n",
       "      <td>c1ccc(C2c3ccsc3CCN2Cc2nc(-c3ccco3)no2)cc1</td>\n",
       "      <td>NaN</td>\n",
       "      <td>NaN</td>\n",
       "    </tr>\n",
       "    <tr>\n",
       "      <th>1</th>\n",
       "      <td>Compound_0328</td>\n",
       "      <td>NaN</td>\n",
       "      <td>0.74</td>\n",
       "      <td>Cc1ccc(N(C(=O)COc2ccc(Br)cc2)C2C=CS(=O)(=O)C2)cc1</td>\n",
       "      <td>NaN</td>\n",
       "      <td>NaN</td>\n",
       "    </tr>\n",
       "    <tr>\n",
       "      <th>2</th>\n",
       "      <td>Compound_0329</td>\n",
       "      <td>NaN</td>\n",
       "      <td>-0.87</td>\n",
       "      <td>CCCS(=O)(=O)C(C#N)=Cc1ccc(-c2ccc(OC)cc2)s1</td>\n",
       "      <td>NaN</td>\n",
       "      <td>NaN</td>\n",
       "    </tr>\n",
       "  </tbody>\n",
       "</table>\n",
       "</div>"
      ],
      "text/plain": [
       "     Compound_id  ex_plate1_run1  ex_plate2_run1  \\\n",
       "0  Compound_0327             NaN           -1.18   \n",
       "1  Compound_0328             NaN            0.74   \n",
       "2  Compound_0329             NaN           -0.87   \n",
       "\n",
       "                                              SMILES Compound Name SecName  \n",
       "0          c1ccc(C2c3ccsc3CCN2Cc2nc(-c3ccco3)no2)cc1           NaN     NaN  \n",
       "1  Cc1ccc(N(C(=O)COc2ccc(Br)cc2)C2C=CS(=O)(=O)C2)cc1           NaN     NaN  \n",
       "2         CCCS(=O)(=O)C(C#N)=Cc1ccc(-c2ccc(OC)cc2)s1           NaN     NaN  "
      ]
     },
     "metadata": {},
     "output_type": "display_data"
    }
   ],
   "source": [
    "comp_matrix = pd.DataFrame(columns = ['Compound_id', 'ex_plate1_run1', 'ex_plate2_run1' ])\n",
    "ids = screen.Compound_id.unique()\n",
    "\n",
    "for i in ids:\n",
    "    comp = screen[screen.Compound_id == i][['Plate', 'gscore_norm']].set_index('Plate').transpose().reset_index(drop = True)\n",
    "    comp['Compound_id'] = i\n",
    "    comp_matrix = comp_matrix.append(comp, sort = False)\n",
    "    \n",
    "comp_matrix = comp_matrix.round(2).dropna(how = 'all')\n",
    "comp_matrix = pd.merge(comp_matrix, screen[['Compound_id', 'SMILES', 'Compound Name', 'SecName']], how = 'left', on = 'Compound_id')\n",
    "comp_matrix = comp_matrix.drop_duplicates('Compound_id')\n",
    "print(comp_matrix.shape)\n",
    "display(comp_matrix.head(3))"
   ]
  },
  {
   "cell_type": "markdown",
   "metadata": {},
   "source": [
    "#### Select his\n",
    "__If in any of the runs the compound performed as hit (above or below the thershold - depending on the assay) - mark it as hit.__"
   ]
  },
  {
   "cell_type": "code",
   "execution_count": 10,
   "metadata": {},
   "outputs": [
    {
     "data": {
      "text/html": [
       "<div>\n",
       "<style scoped>\n",
       "    .dataframe tbody tr th:only-of-type {\n",
       "        vertical-align: middle;\n",
       "    }\n",
       "\n",
       "    .dataframe tbody tr th {\n",
       "        vertical-align: top;\n",
       "    }\n",
       "\n",
       "    .dataframe thead th {\n",
       "        text-align: right;\n",
       "    }\n",
       "</style>\n",
       "<table border=\"1\" class=\"dataframe\">\n",
       "  <thead>\n",
       "    <tr style=\"text-align: right;\">\n",
       "      <th></th>\n",
       "      <th>Compound_id</th>\n",
       "      <th>ex_plate1_run1</th>\n",
       "      <th>ex_plate2_run1</th>\n",
       "      <th>SMILES</th>\n",
       "      <th>Compound Name</th>\n",
       "      <th>SecName</th>\n",
       "      <th>Result</th>\n",
       "    </tr>\n",
       "  </thead>\n",
       "  <tbody>\n",
       "    <tr>\n",
       "      <th>366</th>\n",
       "      <td>Compound_0055</td>\n",
       "      <td>3.43</td>\n",
       "      <td>NaN</td>\n",
       "      <td>N#CC(=Cc1ccc[nH]1)C(=O)Nc1ccc(F)c(F)c1F</td>\n",
       "      <td>NaN</td>\n",
       "      <td>NaN</td>\n",
       "      <td>Hit</td>\n",
       "    </tr>\n",
       "    <tr>\n",
       "      <th>64</th>\n",
       "      <td>Compound_0391</td>\n",
       "      <td>NaN</td>\n",
       "      <td>3.75</td>\n",
       "      <td>CSc1ccc(Oc2nc3sccn3c2[N+](=O)[O-])cc1</td>\n",
       "      <td>NaN</td>\n",
       "      <td>NaN</td>\n",
       "      <td>Hit</td>\n",
       "    </tr>\n",
       "    <tr>\n",
       "      <th>572</th>\n",
       "      <td>Compound_0241</td>\n",
       "      <td>2.70</td>\n",
       "      <td>NaN</td>\n",
       "      <td>CC(C)(C)c1ccc(NC(=O)N2CCCN(c3nccc(C(F)(F)F)n3)...</td>\n",
       "      <td>NaN</td>\n",
       "      <td>NaN</td>\n",
       "      <td>Hit</td>\n",
       "    </tr>\n",
       "    <tr>\n",
       "      <th>59</th>\n",
       "      <td>Compound_0386</td>\n",
       "      <td>NaN</td>\n",
       "      <td>4.78</td>\n",
       "      <td>Cc1cc(CSc2nnc(NC3CC3)s2)on1</td>\n",
       "      <td>NaN</td>\n",
       "      <td>NaN</td>\n",
       "      <td>Hit</td>\n",
       "    </tr>\n",
       "    <tr>\n",
       "      <th>579</th>\n",
       "      <td>Compound_0268</td>\n",
       "      <td>3.05</td>\n",
       "      <td>NaN</td>\n",
       "      <td>Cc1nc(N2CCSCC2)ncc1S(=O)(=O)c1ccc(Cl)cc1</td>\n",
       "      <td>NaN</td>\n",
       "      <td>NaN</td>\n",
       "      <td>Hit</td>\n",
       "    </tr>\n",
       "    <tr>\n",
       "      <th>...</th>\n",
       "      <td>...</td>\n",
       "      <td>...</td>\n",
       "      <td>...</td>\n",
       "      <td>...</td>\n",
       "      <td>...</td>\n",
       "      <td>...</td>\n",
       "      <td>...</td>\n",
       "    </tr>\n",
       "    <tr>\n",
       "      <th>216</th>\n",
       "      <td>Compound_0524</td>\n",
       "      <td>NaN</td>\n",
       "      <td>0.72</td>\n",
       "      <td>O=C1C(O)=C(C2CCC(c3ccc(Cl)cc3)CC2)C(=O)c2ccccc21</td>\n",
       "      <td>MEPRON</td>\n",
       "      <td>ATOVAQUONE</td>\n",
       "      <td>nan</td>\n",
       "    </tr>\n",
       "    <tr>\n",
       "      <th>217</th>\n",
       "      <td>Compound_0525</td>\n",
       "      <td>NaN</td>\n",
       "      <td>-0.25</td>\n",
       "      <td>CN(C)C(=O)Oc1cc(OC(=O)N(C)C)cc(C(O)CNC(C)(C)C)c1</td>\n",
       "      <td>Bambuterol hydrochloride</td>\n",
       "      <td>NaN</td>\n",
       "      <td>nan</td>\n",
       "    </tr>\n",
       "    <tr>\n",
       "      <th>218</th>\n",
       "      <td>Compound_0526</td>\n",
       "      <td>NaN</td>\n",
       "      <td>0.58</td>\n",
       "      <td>Nc1nc(-c2cccs2)cc(C(F)(F)F)n1</td>\n",
       "      <td>NaN</td>\n",
       "      <td>NaN</td>\n",
       "      <td>nan</td>\n",
       "    </tr>\n",
       "    <tr>\n",
       "      <th>211</th>\n",
       "      <td>Compound_0539</td>\n",
       "      <td>NaN</td>\n",
       "      <td>-0.82</td>\n",
       "      <td>CC1(C)C(=O)N(O)C(C)(C)C(=O)N1O</td>\n",
       "      <td>NaN</td>\n",
       "      <td>NaN</td>\n",
       "      <td>nan</td>\n",
       "    </tr>\n",
       "    <tr>\n",
       "      <th>637</th>\n",
       "      <td>Compound_0306</td>\n",
       "      <td>0.04</td>\n",
       "      <td>NaN</td>\n",
       "      <td>c1cc(-c2noc(CN3CCNCC3)n2)cs1</td>\n",
       "      <td>NaN</td>\n",
       "      <td>NaN</td>\n",
       "      <td>nan</td>\n",
       "    </tr>\n",
       "  </tbody>\n",
       "</table>\n",
       "<p>638 rows × 7 columns</p>\n",
       "</div>"
      ],
      "text/plain": [
       "       Compound_id  ex_plate1_run1  ex_plate2_run1  \\\n",
       "366  Compound_0055            3.43             NaN   \n",
       "64   Compound_0391             NaN            3.75   \n",
       "572  Compound_0241            2.70             NaN   \n",
       "59   Compound_0386             NaN            4.78   \n",
       "579  Compound_0268            3.05             NaN   \n",
       "..             ...             ...             ...   \n",
       "216  Compound_0524             NaN            0.72   \n",
       "217  Compound_0525             NaN           -0.25   \n",
       "218  Compound_0526             NaN            0.58   \n",
       "211  Compound_0539             NaN           -0.82   \n",
       "637  Compound_0306            0.04             NaN   \n",
       "\n",
       "                                                SMILES  \\\n",
       "366            N#CC(=Cc1ccc[nH]1)C(=O)Nc1ccc(F)c(F)c1F   \n",
       "64               CSc1ccc(Oc2nc3sccn3c2[N+](=O)[O-])cc1   \n",
       "572  CC(C)(C)c1ccc(NC(=O)N2CCCN(c3nccc(C(F)(F)F)n3)...   \n",
       "59                         Cc1cc(CSc2nnc(NC3CC3)s2)on1   \n",
       "579           Cc1nc(N2CCSCC2)ncc1S(=O)(=O)c1ccc(Cl)cc1   \n",
       "..                                                 ...   \n",
       "216   O=C1C(O)=C(C2CCC(c3ccc(Cl)cc3)CC2)C(=O)c2ccccc21   \n",
       "217   CN(C)C(=O)Oc1cc(OC(=O)N(C)C)cc(C(O)CNC(C)(C)C)c1   \n",
       "218                      Nc1nc(-c2cccs2)cc(C(F)(F)F)n1   \n",
       "211                     CC1(C)C(=O)N(O)C(C)(C)C(=O)N1O   \n",
       "637                       c1cc(-c2noc(CN3CCNCC3)n2)cs1   \n",
       "\n",
       "                Compound Name     SecName Result  \n",
       "366                       NaN         NaN    Hit  \n",
       "64                        NaN         NaN    Hit  \n",
       "572                       NaN         NaN    Hit  \n",
       "59                        NaN         NaN    Hit  \n",
       "579                       NaN         NaN    Hit  \n",
       "..                        ...         ...    ...  \n",
       "216                    MEPRON  ATOVAQUONE    nan  \n",
       "217  Bambuterol hydrochloride         NaN    nan  \n",
       "218                       NaN         NaN    nan  \n",
       "211                       NaN         NaN    nan  \n",
       "637                       NaN         NaN    nan  \n",
       "\n",
       "[638 rows x 7 columns]"
      ]
     },
     "metadata": {},
     "output_type": "display_data"
    }
   ],
   "source": [
    "comp_matrix['Result'] = np.nan  # initialize empty 'Result' column\n",
    "comp_matrix['Result'] = np.where((comp_matrix[['ex_plate1_run1', 'ex_plate2_run1']] > threshold).any(axis = 1), 'Hit', comp_matrix['Result']) \n",
    "display(comp_matrix.sort_values('Result'))"
   ]
  },
  {
   "cell_type": "markdown",
   "metadata": {},
   "source": [
    "#### Save screen to csv"
   ]
  },
  {
   "cell_type": "code",
   "execution_count": 11,
   "metadata": {},
   "outputs": [],
   "source": [
    "comp_matrix.to_csv(path + '//yeast_screen_results_matrix.scv', index = False)"
   ]
  },
  {
   "cell_type": "markdown",
   "metadata": {},
   "source": [
    "#### Create heatmap for all hits form the screen"
   ]
  },
  {
   "cell_type": "code",
   "execution_count": 12,
   "metadata": {},
   "outputs": [
    {
     "name": "stdout",
     "output_type": "stream",
     "text": [
      "(16, 7)\n"
     ]
    }
   ],
   "source": [
    "hits = comp_matrix[comp_matrix.Result == 'Hit']\n",
    "print(hits.shape)"
   ]
  },
  {
   "cell_type": "code",
   "execution_count": 13,
   "metadata": {},
   "outputs": [
    {
     "data": {
      "image/png": "[encoded data removed]",
      "text/plain": [
       "<Figure size 288x504 with 2 Axes>"
      ]
     },
     "metadata": {},
     "output_type": "display_data"
    }
   ],
   "source": [
    "plot_hits = hits[['Compound_id', 'ex_plate1_run1', \n",
    "                  'ex_plate2_run1']].set_index('Compound_id').astype(np.float64)\n",
    "\n",
    "plt.figure(figsize = (4, 7))\n",
    "ax = sns.heatmap(plot_hits, annot = True, cmap = 'RdBu_r', linewidths = 1.5)#, fmt=\"d\", linewidths=.5, ax=ax)\n",
    "plt.tick_params(axis = 'both', which = 'major', labelsize = 10, labelbottom = False, bottom = False, top = False, labeltop=True)\n",
    "plt.xticks(rotation = 90)\n",
    "plt.xlabel('Plate_id')\n",
    "ax.xaxis.set_label_position('top')\n",
    "\n",
    "plt.savefig(path + '//' + 'yeast_screen_hit_heatmap.png', bbox_inches = 'tight', dpi = 600)"
   ]
  },
  {
   "cell_type": "markdown",
   "metadata": {},
   "source": [
    "### Plot all Plates in the Screen\n",
    "<a id=\"plot_all_plates\"></a>\n",
    "__For plot, we will pick only run1 plates, and we will take only wells with compounds (samples).__"
   ]
  },
  {
   "cell_type": "code",
   "execution_count": 14,
   "metadata": {},
   "outputs": [
    {
     "name": "stdout",
     "output_type": "stream",
     "text": [
      "(633, 9)\n",
      "['ex_plate2_run1' 'ex_plate1_run1']\n"
     ]
    }
   ],
   "source": [
    "samples = screen.dropna(subset = ['SMILES'])\n",
    "print(samples.shape)\n",
    "print(samples.Plate.unique())"
   ]
  },
  {
   "cell_type": "markdown",
   "metadata": {},
   "source": [
    "#### Calculate grid to separate plates in the plot"
   ]
  },
  {
   "cell_type": "code",
   "execution_count": 15,
   "metadata": {},
   "outputs": [
    {
     "name": "stdout",
     "output_type": "stream",
     "text": [
      "[317 633]\n"
     ]
    }
   ],
   "source": [
    "grids = np.cumsum([len(g) for n, g in samples.groupby('Plate')])\n",
    "print(grids)"
   ]
  },
  {
   "cell_type": "markdown",
   "metadata": {},
   "source": [
    "#### Plot"
   ]
  },
  {
   "cell_type": "code",
   "execution_count": 16,
   "metadata": {},
   "outputs": [
    {
     "data": {
      "image/png": "[encoded data removed]",
      "text/plain": [
       "<Figure size 1204.35x432 with 1 Axes>"
      ]
     },
     "metadata": {},
     "output_type": "display_data"
    }
   ],
   "source": [
    "g = sns.catplot(x = 'Compound_id', y = 'gscore_norm', hue = 'Plate', data = samples, height = 6, aspect = 2.5, margin_titles = False, palette  = 'dark') #legend = False,\n",
    "plt.plot([0,len(samples['Compound_id'].unique())], [-threshold,-threshold],'r-')\n",
    "plt.plot([0,len(samples['Compound_id'].unique())], [threshold,threshold],'r-')\n",
    "for grid in grids[0:-1]:\n",
    "    plt.plot([grid,grid], [-10,10],'k--')\n",
    "g.set_xticklabels([]) \n",
    "plt.xlabel('Compound ID')\n",
    "plt.ylabel('Growth Score normalized')\n",
    "g.despine()\n",
    "plt.show()\n",
    "g.savefig(path +'//_screen_pointplot.png', bbox_inches ='tight', dpi=600)\n",
    "plt.close()"
   ]
  },
  {
   "cell_type": "markdown",
   "metadata": {},
   "source": [
    "#### Save notebook as html for reporting"
   ]
  },
  {
   "cell_type": "code",
   "execution_count": 21,
   "metadata": {},
   "outputs": [
    {
     "name": "stdout",
     "output_type": "stream",
     "text": [
      "[NbConvertApp] Converting notebook 03b_yeast_growth_in_chain.ipynb to html\n",
      "[NbConvertApp] Writing 430913 bytes to yeast_output_chain/03b_yeast_growth_in_chain.html\n"
     ]
    }
   ],
   "source": [
    "! jupyter nbconvert --output-dir={path} --to html 03b_yeast_growth_in_chain.ipynb"
   ]
  },
  {
   "cell_type": "code",
   "execution_count": null,
   "metadata": {},
   "outputs": [],
   "source": []
  }
 ],
 "metadata": {
  "kernelspec": {
   "display_name": "Python 3",
   "language": "python",
   "name": "python3"
  },
  "language_info": {
   "codemirror_mode": {
    "name": "ipython",
    "version": 3
   },
   "file_extension": ".py",
   "mimetype": "text/x-python",
   "name": "python",
   "nbconvert_exporter": "python",
   "pygments_lexer": "ipython3",
   "version": "3.6.10"
  }
 },
 "nbformat": 4,
 "nbformat_minor": 2
}
