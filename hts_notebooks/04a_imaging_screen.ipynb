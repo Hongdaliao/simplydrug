{
 "cells": [
  {
   "cell_type": "markdown",
   "metadata": {},
   "source": [
    "## IMAGING BASED SCREEN\n",
    "\n",
    "by Anastasia Abashidze\n",
    "\n",
    "\n",
    "Blavatnik Center for Drug Discovery"
   ]
  },
  {
   "cell_type": "markdown",
   "metadata": {},
   "source": [
    "## Introduction\n",
    "  \n",
    "#### HCS"
   ]
  },
  {
   "cell_type": "markdown",
   "metadata": {},
   "source": [
    "<div align=\"justify\"> High-content screening (HCS), also known as high-content analysis (HCA) or cellomics, is a method that is used to identify substances altering the phenotype of a cell in the desired manner. Hence HCS is a phenotypic screen conducted in cell cultures involving the analysis of whole cells or components of cells with simultaneous readout of several parameters. Phenotypic changes may include increases or decreases in the production of cellular products such as proteins and/or changes in the morphology (visual appearance) of the cell. HCA typically involves automated microscopy and image analysis, and in some cases can be high in content but low in throughput. </div>  "
   ]
  },
  {
   "cell_type": "markdown",
   "metadata": {},
   "source": [
    "<div align=\"justify\">In HCS, cells are first incubated with the compounds and after some time, structures and molecular components of the cells are analyzed. The most common analysis involves labeling proteins with fluorescent tags and then quantification of changes using automated image analysis software. Through the use of fluorescent tags with different absorption and emission maxima, it is possible to measure several different cell components in parallel (e.g., cytoplasm vs. nucleus vs. other organelles). The blue channel routinely used for nuclei staining, and green, red, and far-red channels are used to stain cell components. Therefore a large number of features can be collected per cell. </div>"
   ]
  },
  {
   "cell_type": "markdown",
   "metadata": {},
   "source": [
    "<img style =\"float: left; margin-right:700px\"  width =\"550\" src = \"hts_images/seg_example.PNG\" >\n",
    "Exapmle of image segmentation performed by commercial software. Cell borders are outlined in green, organelles are outlined in red."
   ]
  },
  {
   "cell_type": "markdown",
   "metadata": {},
   "source": [
    "#### Assay Data"
   ]
  },
  {
   "cell_type": "markdown",
   "metadata": {},
   "source": [
    "<div align=\"justify\"> In this tutorial we analyze screen results obtained from image analysis software that accompanies automated confocal image reader InCell Analyzer 2200. In imaging based data, each row of the dataset can represent well (by well analysis), field (by field analysis), or cell (by cell analysis). In our example we are starting with field data, there are 10 fields for each well. \n",
    "    </div>"
   ]
  },
  {
   "cell_type": "markdown",
   "metadata": {},
   "source": [
    "<div align=\"justify\"> We search for compounds which can activate some transcription factor (TF) of interest. The red fluorescence reporter gene is attached to the promoter of selected TF-responsive gene (TF target gene) so that red fluorescence intensities of expressed reporter protein reflect levels of activation of the TF. The red fluorescence measurements are stored in 'RFP' column. Since the imaging is performed with live cell cultures, we use Calcein AM staining to measure total cell area and viability. In live cells the nonfluorescent calcein AM is converted to a green-fluorescent calcein after acetoxymethyl ester hydrolysis by intracellular esterases.The green Calcein fluorescence measurements are stored in 'Cell_Intensity' column. </div>"
   ]
  },
  {
   "cell_type": "markdown",
   "metadata": {},
   "source": [
    "<div align=\"justify\">Following assay development guidelines, we consider compound as hit if it's normalized activity as far as 2 standard deviations from the mean activity calculated for rest of the conpounds in the plate. (Two standard deviations disctance is defined as threshold variable at the beginning of the script).</div>"
   ]
  },
  {
   "cell_type": "markdown",
   "metadata": {},
   "source": [
    "#### Systematic Errors"
   ]
  },
  {
   "cell_type": "markdown",
   "metadata": {},
   "source": [
    "<div align=\"justify\">  Even the most carefully performed screens contain two types of measurement error – random and systematic errors. Inherent random variability of assay measurements cannot be eliminated or controlled. In contrast, systematic errors can be estimated and removed. Well-known systematic errors include row, column, or edge effects and are often characterized by gradients toward the center of the plate, affecting activity measurements of both controls and features of interest. </div>"
   ]
  },
  {
   "cell_type": "markdown",
   "metadata": {},
   "source": [
    "<div align=\"justify\"> Many technical, procedural, or environmental factors can cause systematic measurement errors. Such systematic errors have the potential to critically affect the hit selection process. However, systematic error correction methods themselves can introduce systematic bias when applied to error-free HTS data (Makarenkov et al.) Thus, the presence or absence of systematic bias in raw HTS data must be first confirmed by the appropriate statistical tests (here we use Welch’s t-test). \n",
    "</div>"
   ]
  },
  {
   "cell_type": "markdown",
   "metadata": {},
   "source": [
    "## References\n",
    "\n",
    "* High Content Screening (https://en.wikipedia.org/wiki/High-content_screening)\n",
    "* Iurie Caraus, Abdulaziz A. Alsuwailem, Robert Nadon, Vladimir Makarenkov, Detecting and overcoming systematic bias in high-throughput screening technologies: a comprehensive review of practical issues and methodological solutions. Briefings in Bioinformatics, 2015. https://doi.org/10.1093/bib/bbv004\n",
    "* Makarenkov, V., Zentilli, P., Kevorkov, D. An Efficient Method for the Detection and Elimination of Systematic Error in High-Throughput Screening. Bioinformatics 2007, 23, 1648–1657.\n",
    "* Dragiev, P., Nadon, R. & Makarenkov, V. Systematic error detection in experimental high-throughput screening. BMC Bioinformatics 12, 25 (2011). https://doi.org/10.1186/1471-2105-12-25\n",
    "* Sittampalam GS, Grossman A, Brimacombe K, et al., editors. Assay Guidance Manual."
   ]
  },
  {
   "cell_type": "markdown",
   "metadata": {},
   "source": [
    "## The Workflow\n",
    "\n",
    "[Import Packages and create Output Folder](#import)   \n",
    "[Load Data](#load_data)        \n",
    "[Add Layout](#layout)  \n",
    "[Normalize by Viability](#via_norm)  \n",
    "[Generate by Well Data](#results)   \n",
    "[Systematic Error Correction](#er_cor)  \n",
    " - [Welch t-test](#ttest) \n",
    " - [Median Polish Algorithm](#mp) \n",
    " \n",
    "[Running QC](#qc)    \n",
    "[Conclusions](#save)\n",
    " ***"
   ]
  },
  {
   "cell_type": "markdown",
   "metadata": {},
   "source": [
    "### Import Packages and create Output Folder\n",
    "<a id=\"import\"></a>"
   ]
  },
  {
   "cell_type": "code",
   "execution_count": 31,
   "metadata": {},
   "outputs": [],
   "source": [
    "from nbdev.showdoc import *\n",
    "import os\n",
    "import sys\n",
    "sys.path.append('..//')\n",
    "import pandas as pd\n",
    "import numpy as np\n",
    "import matplotlib as mpl\n",
    "import matplotlib.colors as colors\n",
    "import matplotlib.pyplot as plt\n",
    "import seaborn as sns\n",
    "sns.set(context = 'notebook', style = 'white', palette = 'dark')\n",
    "#%load_ext autoreload\n",
    "#%autoreload 2\n",
    "#hide\n",
    "from simplydrug.core import *"
   ]
  },
  {
   "cell_type": "markdown",
   "metadata": {},
   "source": [
    "#### Create folder to save the output"
   ]
  },
  {
   "cell_type": "code",
   "execution_count": 32,
   "metadata": {},
   "outputs": [],
   "source": [
    "path = ('imaging_screen_output') \n",
    "if not os.path.exists(path):\n",
    "    os.mkdir(path)\n",
    "    print('Output folder created')"
   ]
  },
  {
   "cell_type": "markdown",
   "metadata": {},
   "source": [
    "#### Defining parameters"
   ]
  },
  {
   "cell_type": "code",
   "execution_count": 33,
   "metadata": {},
   "outputs": [],
   "source": [
    "# path to data\n",
    "data_path = 'hts_data//cell_screen_fields.xlsx'\n",
    "\n",
    "# path to layout\n",
    "layout_path = 'hts_data//cell_screen_layout.xlsx'\n",
    "\n",
    "#path to chemical library\n",
    "chem_path = 'hts_data//compounds//example_chemicals.csv'\n",
    "\n",
    "# which compounds to import to the layout\n",
    "chem_plate = 'ex_plate1'\n",
    "\n",
    "# how to name the output files\n",
    "name = 'image_screen_run1'\n",
    "\n",
    "# define threshold - two standard deviations from the mean plate activity \n",
    "threshold = 2\n",
    "\n",
    "palette = {'Sample':'Navy','Negative':'Darkred','Positive':'Darkgreen', 'Hit': 'Orange', 'Invalid_sample':'Darkgray'}\n",
    "hue_order = ['Sample', 'Negative', 'Positive', 'Hit', 'Invalid_sample']"
   ]
  },
  {
   "cell_type": "markdown",
   "metadata": {},
   "source": [
    "### Load Data\n",
    "<a id=\"load_data\"></a>"
   ]
  },
  {
   "cell_type": "code",
   "execution_count": 34,
   "metadata": {},
   "outputs": [
    {
     "name": "stdout",
     "output_type": "stream",
     "text": [
      "(3680, 10)\n"
     ]
    },
    {
     "data": {
      "text/html": [
       "<div>\n",
       "<style scoped>\n",
       "    .dataframe tbody tr th:only-of-type {\n",
       "        vertical-align: middle;\n",
       "    }\n",
       "\n",
       "    .dataframe tbody tr th {\n",
       "        vertical-align: top;\n",
       "    }\n",
       "\n",
       "    .dataframe thead th {\n",
       "        text-align: right;\n",
       "    }\n",
       "</style>\n",
       "<table border=\"1\" class=\"dataframe\">\n",
       "  <thead>\n",
       "    <tr style=\"text-align: right;\">\n",
       "      <th></th>\n",
       "      <th>Well</th>\n",
       "      <th>Nuc Area</th>\n",
       "      <th>Cell Area</th>\n",
       "      <th>Cells_Background Intensity</th>\n",
       "      <th>Cells_Intensity (N+C)_raw</th>\n",
       "      <th>Ref_Background Intensity</th>\n",
       "      <th>Ref_Intensity (N+C)</th>\n",
       "      <th>Cell_Count</th>\n",
       "      <th>Cell_Intensity</th>\n",
       "      <th>RFP</th>\n",
       "    </tr>\n",
       "  </thead>\n",
       "  <tbody>\n",
       "    <tr>\n",
       "      <th>0</th>\n",
       "      <td>A - 3(fld 01)</td>\n",
       "      <td>124.342</td>\n",
       "      <td>245.026</td>\n",
       "      <td>11868.942</td>\n",
       "      <td>19985.581</td>\n",
       "      <td>669.419</td>\n",
       "      <td>815.286</td>\n",
       "      <td>721</td>\n",
       "      <td>8116.639</td>\n",
       "      <td>145.867</td>\n",
       "    </tr>\n",
       "    <tr>\n",
       "      <th>1</th>\n",
       "      <td>A - 3(fld 02)</td>\n",
       "      <td>119.247</td>\n",
       "      <td>241.826</td>\n",
       "      <td>10726.076</td>\n",
       "      <td>17219.634</td>\n",
       "      <td>753.825</td>\n",
       "      <td>894.446</td>\n",
       "      <td>971</td>\n",
       "      <td>6493.558</td>\n",
       "      <td>140.621</td>\n",
       "    </tr>\n",
       "    <tr>\n",
       "      <th>2</th>\n",
       "      <td>A - 3(fld 03)</td>\n",
       "      <td>118.427</td>\n",
       "      <td>239.436</td>\n",
       "      <td>12422.367</td>\n",
       "      <td>18783.938</td>\n",
       "      <td>783.554</td>\n",
       "      <td>930.932</td>\n",
       "      <td>1074</td>\n",
       "      <td>6361.571</td>\n",
       "      <td>147.378</td>\n",
       "    </tr>\n",
       "    <tr>\n",
       "      <th>3</th>\n",
       "      <td>A - 3(fld 04)</td>\n",
       "      <td>123.570</td>\n",
       "      <td>249.733</td>\n",
       "      <td>11758.683</td>\n",
       "      <td>19193.633</td>\n",
       "      <td>724.785</td>\n",
       "      <td>879.865</td>\n",
       "      <td>922</td>\n",
       "      <td>7434.950</td>\n",
       "      <td>155.080</td>\n",
       "    </tr>\n",
       "    <tr>\n",
       "      <th>4</th>\n",
       "      <td>A - 3(fld 05)</td>\n",
       "      <td>110.461</td>\n",
       "      <td>208.695</td>\n",
       "      <td>12613.547</td>\n",
       "      <td>16706.001</td>\n",
       "      <td>872.133</td>\n",
       "      <td>975.856</td>\n",
       "      <td>1387</td>\n",
       "      <td>4092.454</td>\n",
       "      <td>103.723</td>\n",
       "    </tr>\n",
       "  </tbody>\n",
       "</table>\n",
       "</div>"
      ],
      "text/plain": [
       "            Well  Nuc Area  Cell Area  Cells_Background Intensity  \\\n",
       "0  A - 3(fld 01)   124.342    245.026                   11868.942   \n",
       "1  A - 3(fld 02)   119.247    241.826                   10726.076   \n",
       "2  A - 3(fld 03)   118.427    239.436                   12422.367   \n",
       "3  A - 3(fld 04)   123.570    249.733                   11758.683   \n",
       "4  A - 3(fld 05)   110.461    208.695                   12613.547   \n",
       "\n",
       "   Cells_Intensity (N+C)_raw  Ref_Background Intensity  Ref_Intensity (N+C)  \\\n",
       "0                  19985.581                   669.419              815.286   \n",
       "1                  17219.634                   753.825              894.446   \n",
       "2                  18783.938                   783.554              930.932   \n",
       "3                  19193.633                   724.785              879.865   \n",
       "4                  16706.001                   872.133              975.856   \n",
       "\n",
       "   Cell_Count  Cell_Intensity      RFP  \n",
       "0         721        8116.639  145.867  \n",
       "1         971        6493.558  140.621  \n",
       "2        1074        6361.571  147.378  \n",
       "3         922        7434.950  155.080  \n",
       "4        1387        4092.454  103.723  "
      ]
     },
     "metadata": {},
     "output_type": "display_data"
    }
   ],
   "source": [
    "data = pd.DataFrame(pd.ExcelFile(data_path).parse(0))\n",
    "print(data.shape)\n",
    "display(data.head())"
   ]
  },
  {
   "cell_type": "markdown",
   "metadata": {},
   "source": [
    "#### Split 'Well column to 'Well' and 'Field'"
   ]
  },
  {
   "cell_type": "code",
   "execution_count": 35,
   "metadata": {},
   "outputs": [
    {
     "data": {
      "text/html": [
       "<div>\n",
       "<style scoped>\n",
       "    .dataframe tbody tr th:only-of-type {\n",
       "        vertical-align: middle;\n",
       "    }\n",
       "\n",
       "    .dataframe tbody tr th {\n",
       "        vertical-align: top;\n",
       "    }\n",
       "\n",
       "    .dataframe thead th {\n",
       "        text-align: right;\n",
       "    }\n",
       "</style>\n",
       "<table border=\"1\" class=\"dataframe\">\n",
       "  <thead>\n",
       "    <tr style=\"text-align: right;\">\n",
       "      <th></th>\n",
       "      <th>Well</th>\n",
       "      <th>Nuc Area</th>\n",
       "      <th>Cell Area</th>\n",
       "      <th>Cells_Background Intensity</th>\n",
       "      <th>Cells_Intensity (N+C)_raw</th>\n",
       "      <th>Ref_Background Intensity</th>\n",
       "      <th>Ref_Intensity (N+C)</th>\n",
       "      <th>Cell_Count</th>\n",
       "      <th>Cell_Intensity</th>\n",
       "      <th>RFP</th>\n",
       "      <th>Field</th>\n",
       "    </tr>\n",
       "  </thead>\n",
       "  <tbody>\n",
       "    <tr>\n",
       "      <th>0</th>\n",
       "      <td>A3</td>\n",
       "      <td>124.342</td>\n",
       "      <td>245.026</td>\n",
       "      <td>11868.942</td>\n",
       "      <td>19985.581</td>\n",
       "      <td>669.419</td>\n",
       "      <td>815.286</td>\n",
       "      <td>721</td>\n",
       "      <td>8116.639</td>\n",
       "      <td>145.867</td>\n",
       "      <td>fld 01</td>\n",
       "    </tr>\n",
       "    <tr>\n",
       "      <th>1</th>\n",
       "      <td>A3</td>\n",
       "      <td>119.247</td>\n",
       "      <td>241.826</td>\n",
       "      <td>10726.076</td>\n",
       "      <td>17219.634</td>\n",
       "      <td>753.825</td>\n",
       "      <td>894.446</td>\n",
       "      <td>971</td>\n",
       "      <td>6493.558</td>\n",
       "      <td>140.621</td>\n",
       "      <td>fld 02</td>\n",
       "    </tr>\n",
       "    <tr>\n",
       "      <th>2</th>\n",
       "      <td>A3</td>\n",
       "      <td>118.427</td>\n",
       "      <td>239.436</td>\n",
       "      <td>12422.367</td>\n",
       "      <td>18783.938</td>\n",
       "      <td>783.554</td>\n",
       "      <td>930.932</td>\n",
       "      <td>1074</td>\n",
       "      <td>6361.571</td>\n",
       "      <td>147.378</td>\n",
       "      <td>fld 03</td>\n",
       "    </tr>\n",
       "    <tr>\n",
       "      <th>3</th>\n",
       "      <td>A3</td>\n",
       "      <td>123.570</td>\n",
       "      <td>249.733</td>\n",
       "      <td>11758.683</td>\n",
       "      <td>19193.633</td>\n",
       "      <td>724.785</td>\n",
       "      <td>879.865</td>\n",
       "      <td>922</td>\n",
       "      <td>7434.950</td>\n",
       "      <td>155.080</td>\n",
       "      <td>fld 04</td>\n",
       "    </tr>\n",
       "    <tr>\n",
       "      <th>4</th>\n",
       "      <td>A3</td>\n",
       "      <td>110.461</td>\n",
       "      <td>208.695</td>\n",
       "      <td>12613.547</td>\n",
       "      <td>16706.001</td>\n",
       "      <td>872.133</td>\n",
       "      <td>975.856</td>\n",
       "      <td>1387</td>\n",
       "      <td>4092.454</td>\n",
       "      <td>103.723</td>\n",
       "      <td>fld 05</td>\n",
       "    </tr>\n",
       "  </tbody>\n",
       "</table>\n",
       "</div>"
      ],
      "text/plain": [
       "  Well  Nuc Area  Cell Area  Cells_Background Intensity  \\\n",
       "0   A3   124.342    245.026                   11868.942   \n",
       "1   A3   119.247    241.826                   10726.076   \n",
       "2   A3   118.427    239.436                   12422.367   \n",
       "3   A3   123.570    249.733                   11758.683   \n",
       "4   A3   110.461    208.695                   12613.547   \n",
       "\n",
       "   Cells_Intensity (N+C)_raw  Ref_Background Intensity  Ref_Intensity (N+C)  \\\n",
       "0                  19985.581                   669.419              815.286   \n",
       "1                  17219.634                   753.825              894.446   \n",
       "2                  18783.938                   783.554              930.932   \n",
       "3                  19193.633                   724.785              879.865   \n",
       "4                  16706.001                   872.133              975.856   \n",
       "\n",
       "   Cell_Count  Cell_Intensity      RFP   Field  \n",
       "0         721        8116.639  145.867  fld 01  \n",
       "1         971        6493.558  140.621  fld 02  \n",
       "2        1074        6361.571  147.378  fld 03  \n",
       "3         922        7434.950  155.080  fld 04  \n",
       "4        1387        4092.454  103.723  fld 05  "
      ]
     },
     "metadata": {},
     "output_type": "display_data"
    }
   ],
   "source": [
    "split = data['Well'].str.split('[(]', n = 1, expand = True) # making seperate column for well and field\n",
    "data['Field']= split[1].str.replace(')', '', regex=True)\n",
    "data['Well'] = data['Well'].replace(to_replace=[' - ', '(\\(fld .*)', ' '], value ='', regex=True)\n",
    "display(data.head())"
   ]
  },
  {
   "cell_type": "markdown",
   "metadata": {},
   "source": [
    "### Add Layout\n",
    "<a id=\"layout\"></a>"
   ]
  },
  {
   "cell_type": "code",
   "execution_count": 36,
   "metadata": {},
   "outputs": [
    {
     "name": "stdout",
     "output_type": "stream",
     "text": [
      "Added  Well\n",
      "Added  Status\n",
      "Added compounds:  ex_plate1 \n",
      "\n"
     ]
    },
    {
     "data": {
      "text/html": [
       "<div>\n",
       "<style scoped>\n",
       "    .dataframe tbody tr th:only-of-type {\n",
       "        vertical-align: middle;\n",
       "    }\n",
       "\n",
       "    .dataframe tbody tr th {\n",
       "        vertical-align: top;\n",
       "    }\n",
       "\n",
       "    .dataframe thead th {\n",
       "        text-align: right;\n",
       "    }\n",
       "</style>\n",
       "<table border=\"1\" class=\"dataframe\">\n",
       "  <thead>\n",
       "    <tr style=\"text-align: right;\">\n",
       "      <th></th>\n",
       "      <th>Well</th>\n",
       "      <th>Nuc Area</th>\n",
       "      <th>Cell Area</th>\n",
       "      <th>Cells_Background Intensity</th>\n",
       "      <th>Cells_Intensity (N+C)_raw</th>\n",
       "      <th>Ref_Background Intensity</th>\n",
       "      <th>Ref_Intensity (N+C)</th>\n",
       "      <th>Cell_Count</th>\n",
       "      <th>Cell_Intensity</th>\n",
       "      <th>RFP</th>\n",
       "      <th>Field</th>\n",
       "      <th>Status</th>\n",
       "      <th>Plate</th>\n",
       "      <th>Compound_id</th>\n",
       "      <th>lib_name</th>\n",
       "      <th>SMILES</th>\n",
       "      <th>Compound Name</th>\n",
       "      <th>SecName</th>\n",
       "    </tr>\n",
       "  </thead>\n",
       "  <tbody>\n",
       "    <tr>\n",
       "      <th>0</th>\n",
       "      <td>A3</td>\n",
       "      <td>124.342</td>\n",
       "      <td>245.026</td>\n",
       "      <td>11868.942</td>\n",
       "      <td>19985.581</td>\n",
       "      <td>669.419</td>\n",
       "      <td>815.286</td>\n",
       "      <td>721</td>\n",
       "      <td>8116.639</td>\n",
       "      <td>145.867</td>\n",
       "      <td>fld 01</td>\n",
       "      <td>Sample</td>\n",
       "      <td>ex_plate1</td>\n",
       "      <td>Compound_0001</td>\n",
       "      <td>example_library</td>\n",
       "      <td>Cc1nn(C)c2nc(C(C)C)cc(C(=O)N3CCN(C(=O)C4CC4)CC...</td>\n",
       "      <td>NaN</td>\n",
       "      <td>NaN</td>\n",
       "    </tr>\n",
       "    <tr>\n",
       "      <th>1</th>\n",
       "      <td>A3</td>\n",
       "      <td>119.247</td>\n",
       "      <td>241.826</td>\n",
       "      <td>10726.076</td>\n",
       "      <td>17219.634</td>\n",
       "      <td>753.825</td>\n",
       "      <td>894.446</td>\n",
       "      <td>971</td>\n",
       "      <td>6493.558</td>\n",
       "      <td>140.621</td>\n",
       "      <td>fld 02</td>\n",
       "      <td>Sample</td>\n",
       "      <td>ex_plate1</td>\n",
       "      <td>Compound_0001</td>\n",
       "      <td>example_library</td>\n",
       "      <td>Cc1nn(C)c2nc(C(C)C)cc(C(=O)N3CCN(C(=O)C4CC4)CC...</td>\n",
       "      <td>NaN</td>\n",
       "      <td>NaN</td>\n",
       "    </tr>\n",
       "    <tr>\n",
       "      <th>2</th>\n",
       "      <td>A3</td>\n",
       "      <td>118.427</td>\n",
       "      <td>239.436</td>\n",
       "      <td>12422.367</td>\n",
       "      <td>18783.938</td>\n",
       "      <td>783.554</td>\n",
       "      <td>930.932</td>\n",
       "      <td>1074</td>\n",
       "      <td>6361.571</td>\n",
       "      <td>147.378</td>\n",
       "      <td>fld 03</td>\n",
       "      <td>Sample</td>\n",
       "      <td>ex_plate1</td>\n",
       "      <td>Compound_0001</td>\n",
       "      <td>example_library</td>\n",
       "      <td>Cc1nn(C)c2nc(C(C)C)cc(C(=O)N3CCN(C(=O)C4CC4)CC...</td>\n",
       "      <td>NaN</td>\n",
       "      <td>NaN</td>\n",
       "    </tr>\n",
       "    <tr>\n",
       "      <th>3</th>\n",
       "      <td>A3</td>\n",
       "      <td>123.570</td>\n",
       "      <td>249.733</td>\n",
       "      <td>11758.683</td>\n",
       "      <td>19193.633</td>\n",
       "      <td>724.785</td>\n",
       "      <td>879.865</td>\n",
       "      <td>922</td>\n",
       "      <td>7434.950</td>\n",
       "      <td>155.080</td>\n",
       "      <td>fld 04</td>\n",
       "      <td>Sample</td>\n",
       "      <td>ex_plate1</td>\n",
       "      <td>Compound_0001</td>\n",
       "      <td>example_library</td>\n",
       "      <td>Cc1nn(C)c2nc(C(C)C)cc(C(=O)N3CCN(C(=O)C4CC4)CC...</td>\n",
       "      <td>NaN</td>\n",
       "      <td>NaN</td>\n",
       "    </tr>\n",
       "    <tr>\n",
       "      <th>4</th>\n",
       "      <td>A3</td>\n",
       "      <td>110.461</td>\n",
       "      <td>208.695</td>\n",
       "      <td>12613.547</td>\n",
       "      <td>16706.001</td>\n",
       "      <td>872.133</td>\n",
       "      <td>975.856</td>\n",
       "      <td>1387</td>\n",
       "      <td>4092.454</td>\n",
       "      <td>103.723</td>\n",
       "      <td>fld 05</td>\n",
       "      <td>Sample</td>\n",
       "      <td>ex_plate1</td>\n",
       "      <td>Compound_0001</td>\n",
       "      <td>example_library</td>\n",
       "      <td>Cc1nn(C)c2nc(C(C)C)cc(C(=O)N3CCN(C(=O)C4CC4)CC...</td>\n",
       "      <td>NaN</td>\n",
       "      <td>NaN</td>\n",
       "    </tr>\n",
       "  </tbody>\n",
       "</table>\n",
       "</div>"
      ],
      "text/plain": [
       "  Well  Nuc Area  Cell Area  Cells_Background Intensity  \\\n",
       "0   A3   124.342    245.026                   11868.942   \n",
       "1   A3   119.247    241.826                   10726.076   \n",
       "2   A3   118.427    239.436                   12422.367   \n",
       "3   A3   123.570    249.733                   11758.683   \n",
       "4   A3   110.461    208.695                   12613.547   \n",
       "\n",
       "   Cells_Intensity (N+C)_raw  Ref_Background Intensity  Ref_Intensity (N+C)  \\\n",
       "0                  19985.581                   669.419              815.286   \n",
       "1                  17219.634                   753.825              894.446   \n",
       "2                  18783.938                   783.554              930.932   \n",
       "3                  19193.633                   724.785              879.865   \n",
       "4                  16706.001                   872.133              975.856   \n",
       "\n",
       "   Cell_Count  Cell_Intensity      RFP   Field  Status      Plate  \\\n",
       "0         721        8116.639  145.867  fld 01  Sample  ex_plate1   \n",
       "1         971        6493.558  140.621  fld 02  Sample  ex_plate1   \n",
       "2        1074        6361.571  147.378  fld 03  Sample  ex_plate1   \n",
       "3         922        7434.950  155.080  fld 04  Sample  ex_plate1   \n",
       "4        1387        4092.454  103.723  fld 05  Sample  ex_plate1   \n",
       "\n",
       "     Compound_id         lib_name  \\\n",
       "0  Compound_0001  example_library   \n",
       "1  Compound_0001  example_library   \n",
       "2  Compound_0001  example_library   \n",
       "3  Compound_0001  example_library   \n",
       "4  Compound_0001  example_library   \n",
       "\n",
       "                                              SMILES Compound Name SecName  \n",
       "0  Cc1nn(C)c2nc(C(C)C)cc(C(=O)N3CCN(C(=O)C4CC4)CC...           NaN     NaN  \n",
       "1  Cc1nn(C)c2nc(C(C)C)cc(C(=O)N3CCN(C(=O)C4CC4)CC...           NaN     NaN  \n",
       "2  Cc1nn(C)c2nc(C(C)C)cc(C(=O)N3CCN(C(=O)C4CC4)CC...           NaN     NaN  \n",
       "3  Cc1nn(C)c2nc(C(C)C)cc(C(=O)N3CCN(C(=O)C4CC4)CC...           NaN     NaN  \n",
       "4  Cc1nn(C)c2nc(C(C)C)cc(C(=O)N3CCN(C(=O)C4CC4)CC...           NaN     NaN  "
      ]
     },
     "metadata": {},
     "output_type": "display_data"
    }
   ],
   "source": [
    "data = add_layout(df = data, layout_path = layout_path , chem_path = chem_path, chem_plate = chem_plate)\n",
    "display(data.head())"
   ]
  },
  {
   "cell_type": "markdown",
   "metadata": {},
   "source": [
    "#### Explore data"
   ]
  },
  {
   "cell_type": "code",
   "execution_count": 37,
   "metadata": {},
   "outputs": [
    {
     "name": "stdout",
     "output_type": "stream",
     "text": [
      "<class 'pandas.core.frame.DataFrame'>\n",
      "Int64Index: 3680 entries, 0 to 3679\n",
      "Data columns (total 18 columns):\n",
      " #   Column                      Non-Null Count  Dtype  \n",
      "---  ------                      --------------  -----  \n",
      " 0   Well                        3680 non-null   object \n",
      " 1   Nuc Area                    3680 non-null   float64\n",
      " 2   Cell Area                   3680 non-null   float64\n",
      " 3   Cells_Background Intensity  3680 non-null   float64\n",
      " 4   Cells_Intensity (N+C)_raw   3680 non-null   float64\n",
      " 5   Ref_Background Intensity    3680 non-null   float64\n",
      " 6   Ref_Intensity (N+C)         3680 non-null   float64\n",
      " 7   Cell_Count                  3680 non-null   int64  \n",
      " 8   Cell_Intensity              3680 non-null   float64\n",
      " 9   RFP                         3680 non-null   float64\n",
      " 10  Field                       3680 non-null   object \n",
      " 11  Status                      3680 non-null   object \n",
      " 12  Plate                       3190 non-null   object \n",
      " 13  Compound_id                 3190 non-null   object \n",
      " 14  lib_name                    3190 non-null   object \n",
      " 15  SMILES                      3170 non-null   object \n",
      " 16  Compound Name               240 non-null    object \n",
      " 17  SecName                     110 non-null    object \n",
      "dtypes: float64(8), int64(1), object(9)\n",
      "memory usage: 546.2+ KB\n"
     ]
    }
   ],
   "source": [
    "data.info()"
   ]
  },
  {
   "cell_type": "markdown",
   "metadata": {},
   "source": [
    "<div align=\"justify\"> Our data contain 368 wells and 10 fields for each well. Nuclear areas are defined by blue nuclei staining. 'Cell Area', 'Cells_Background Intensity', and 'Cells_Intensity (N+C)' are defined by green channel (Calcein staining). 'Cell Intensity' column represents Calcein cell intensity after subtracting Background fluorescence. Similarly, 'RFP' column represents normalized red fluorescence. 'Cell Count' column represent cell counts per field.  </div>"
   ]
  },
  {
   "cell_type": "markdown",
   "metadata": {},
   "source": [
    "####  Normalize features "
   ]
  },
  {
   "cell_type": "code",
   "execution_count": 38,
   "metadata": {},
   "outputs": [],
   "source": [
    "features  = ['Cell_Count', 'Cell_Intensity', 'RFP']\n",
    "for f in features:\n",
    "    data = normalize_z(data.copy(), f)"
   ]
  },
  {
   "cell_type": "markdown",
   "metadata": {},
   "source": [
    "#### Heatmap features"
   ]
  },
  {
   "cell_type": "code",
   "execution_count": 39,
   "metadata": {},
   "outputs": [
    {
     "data": {
      "image/png": "[encoded data removed]",
      "text/plain": [
       "<Figure size 504x288 with 2 Axes>"
      ]
     },
     "metadata": {},
     "output_type": "display_data"
    },
    {
     "data": {
      "image/png": "[encoded data removed]",
      "text/plain": [
       "<Figure size 504x288 with 2 Axes>"
      ]
     },
     "metadata": {},
     "output_type": "display_data"
    },
    {
     "data": {
      "image/png": "[encoded data removed]",
      "text/plain": [
       "<Figure size 504x288 with 2 Axes>"
      ]
     },
     "metadata": {},
     "output_type": "display_data"
    }
   ],
   "source": [
    "features  = ['Cell_Count_norm', 'Cell_Intensity_norm', 'RFP_norm']\n",
    "hts_heatmap(df = data, layout_path = layout_path, features = features, save_as = f + 'heatmap.png', path = path)"
   ]
  },
  {
   "cell_type": "markdown",
   "metadata": {},
   "source": [
    "### Normalize Activity by Viability\n",
    "<a id=\"via_norm\"></a>"
   ]
  },
  {
   "cell_type": "markdown",
   "metadata": {},
   "source": [
    "<div align=\"justify\"> From heatmaps, we can notice that most of the wells with strong red signals have low cell counts. In addition, these wells usually have high Calcein intensities, which can be explained by apoptotic cell swelling. Hence, these wells are probably contained toxic compounds. HTS screens are usually performed with the standard concentration of the compounds (5 or 10 mM). In further experiments, we can perform dose-response studies to analyze compounds toxicity, but for now, we will normalize compounds activity by viability just multiplying 'RFP' and 'Cell_Count'. We will call this new feature 'RFP_via' and will normalize this new feature using z-normalization.</div> \n"
   ]
  },
  {
   "cell_type": "code",
   "execution_count": 40,
   "metadata": {},
   "outputs": [],
   "source": [
    "data['RFP_via'] = data['RFP']*data['Cell_Count']\n",
    "data = normalize_z(data.copy(), 'RFP_via')"
   ]
  },
  {
   "cell_type": "code",
   "execution_count": 41,
   "metadata": {},
   "outputs": [
    {
     "data": {
      "image/png": "[encoded data removed]",
      "text/plain": [
       "<Figure size 504x288 with 2 Axes>"
      ]
     },
     "metadata": {},
     "output_type": "display_data"
    }
   ],
   "source": [
    "hts_heatmap(df = data, layout_path = layout_path, features = ['RFP_via_norm'], save_as = 'RFP_via_norm_heatmap.png', path = path)"
   ]
  },
  {
   "cell_type": "markdown",
   "metadata": {},
   "source": [
    "<div align=\"justify\"> Multiplying two features introduces a strong gradient across the plate (row effect). This is a kind of systematic errors and we will normalize it using the median polish algorithm in the next step. Despite the strong gradient, now we can easily identify our 'true' hits in J6, L19, and N22 wells. Let's plot the viability-normalized activity to demonstrate how changes introduced by viability normalization changes 'raw' hits locations. For this purpose, we will add 'Result_raw' column defining hits extracted using RFP signal before viability normalization. </div>\n"
   ]
  },
  {
   "cell_type": "code",
   "execution_count": 42,
   "metadata": {},
   "outputs": [],
   "source": [
    "data['Result_raw'] = data['Status']\n",
    "data['Result_raw'] = np.where((data['RFP_norm'] >= threshold) & (data['Status'] =='Sample'), 'Hit', data['Result_raw'])"
   ]
  },
  {
   "cell_type": "code",
   "execution_count": 43,
   "metadata": {},
   "outputs": [
    {
     "data": {
      "image/png": "[encoded data removed]",
      "text/plain": [
       "<Figure size 1202.1x432 with 1 Axes>"
      ]
     },
     "metadata": {},
     "output_type": "display_data"
    }
   ],
   "source": [
    "pointplot_plate(df = data,  x = 'Well', y = 'RFP_via_norm',  hue = 'Result_raw', hue_order = hue_order, \n",
    "                 threshold = threshold, ylabel = 'Activity_normalized_by_viability', palette = palette,  save_as = 'field_pointplot', path = path)"
   ]
  },
  {
   "cell_type": "markdown",
   "metadata": {},
   "source": [
    "<div align=\"justify\"> We can see that most of the 'raw' hit fields (yellow points) were moved down below the threshold line after viability normalization. One new hit appeared on the right part of the graph. In addition, this graph demonstrates how a strong row effect can complicate hit selection. Next, we will correct the row effect using 'by well' data. </div> "
   ]
  },
  {
   "cell_type": "markdown",
   "metadata": {},
   "source": [
    "### Generate by Well Data\n",
    "<a id=\"results\"></a>\n",
    "\n",
    "Averaging measurements by well."
   ]
  },
  {
   "cell_type": "code",
   "execution_count": 44,
   "metadata": {},
   "outputs": [
    {
     "name": "stdout",
     "output_type": "stream",
     "text": [
      "(368, 16)\n"
     ]
    },
    {
     "data": {
      "text/html": [
       "<div>\n",
       "<style scoped>\n",
       "    .dataframe tbody tr th:only-of-type {\n",
       "        vertical-align: middle;\n",
       "    }\n",
       "\n",
       "    .dataframe tbody tr th {\n",
       "        vertical-align: top;\n",
       "    }\n",
       "\n",
       "    .dataframe thead th {\n",
       "        text-align: right;\n",
       "    }\n",
       "</style>\n",
       "<table border=\"1\" class=\"dataframe\">\n",
       "  <thead>\n",
       "    <tr style=\"text-align: right;\">\n",
       "      <th></th>\n",
       "      <th>Cell Area</th>\n",
       "      <th>Cell_Count</th>\n",
       "      <th>Cell_Count_norm</th>\n",
       "      <th>Cell_Intensity_norm</th>\n",
       "      <th>Nuc Area</th>\n",
       "      <th>RFP</th>\n",
       "      <th>RFP_via</th>\n",
       "      <th>RFP_via_norm</th>\n",
       "      <th>Well</th>\n",
       "      <th>Status</th>\n",
       "      <th>Plate</th>\n",
       "      <th>Compound_id</th>\n",
       "      <th>lib_name</th>\n",
       "      <th>SMILES</th>\n",
       "      <th>Compound Name</th>\n",
       "      <th>SecName</th>\n",
       "    </tr>\n",
       "  </thead>\n",
       "  <tbody>\n",
       "    <tr>\n",
       "      <th>0</th>\n",
       "      <td>240.0466</td>\n",
       "      <td>1000.4</td>\n",
       "      <td>-0.096317</td>\n",
       "      <td>-0.219583</td>\n",
       "      <td>119.4660</td>\n",
       "      <td>159.8797</td>\n",
       "      <td>154860.9417</td>\n",
       "      <td>-0.881503</td>\n",
       "      <td>A10</td>\n",
       "      <td>Sample</td>\n",
       "      <td>ex_plate1</td>\n",
       "      <td>Compound_0008</td>\n",
       "      <td>example_library</td>\n",
       "      <td>CCOC(=O)NC(C(=O)NC(C)c1ccccc1C)C(C)C</td>\n",
       "      <td>NaN</td>\n",
       "      <td>NaN</td>\n",
       "    </tr>\n",
       "    <tr>\n",
       "      <th>1</th>\n",
       "      <td>240.1836</td>\n",
       "      <td>1013.4</td>\n",
       "      <td>-0.043811</td>\n",
       "      <td>-0.249819</td>\n",
       "      <td>117.1018</td>\n",
       "      <td>153.9349</td>\n",
       "      <td>153328.0654</td>\n",
       "      <td>-0.917329</td>\n",
       "      <td>A11</td>\n",
       "      <td>Sample</td>\n",
       "      <td>ex_plate1</td>\n",
       "      <td>Compound_0009</td>\n",
       "      <td>example_library</td>\n",
       "      <td>O=C(COC(=O)c1ccco1)NC1CC1</td>\n",
       "      <td>NaN</td>\n",
       "      <td>NaN</td>\n",
       "    </tr>\n",
       "    <tr>\n",
       "      <th>2</th>\n",
       "      <td>253.6417</td>\n",
       "      <td>860.2</td>\n",
       "      <td>-0.662577</td>\n",
       "      <td>0.108024</td>\n",
       "      <td>124.9165</td>\n",
       "      <td>152.6865</td>\n",
       "      <td>128677.8225</td>\n",
       "      <td>-1.493461</td>\n",
       "      <td>A12</td>\n",
       "      <td>Sample</td>\n",
       "      <td>ex_plate1</td>\n",
       "      <td>Compound_0010</td>\n",
       "      <td>example_library</td>\n",
       "      <td>CCc1ccc(OCc2ccccc2C(=O)Nc2ccc3nc(C)cc(N)c3c2)cc1</td>\n",
       "      <td>JTC-801</td>\n",
       "      <td>NaN</td>\n",
       "    </tr>\n",
       "    <tr>\n",
       "      <th>3</th>\n",
       "      <td>249.2515</td>\n",
       "      <td>362.5</td>\n",
       "      <td>-2.672757</td>\n",
       "      <td>5.047333</td>\n",
       "      <td>112.4694</td>\n",
       "      <td>506.8975</td>\n",
       "      <td>180404.0444</td>\n",
       "      <td>-0.284503</td>\n",
       "      <td>A13</td>\n",
       "      <td>Sample</td>\n",
       "      <td>ex_plate1</td>\n",
       "      <td>Compound_0011</td>\n",
       "      <td>example_library</td>\n",
       "      <td>CN(CC(=O)Nc1ccccc1C(=O)NCc1ccccc1)Cc1ccc(Cl)s1</td>\n",
       "      <td>NaN</td>\n",
       "      <td>NaN</td>\n",
       "    </tr>\n",
       "    <tr>\n",
       "      <th>4</th>\n",
       "      <td>239.3896</td>\n",
       "      <td>1003.5</td>\n",
       "      <td>-0.083797</td>\n",
       "      <td>-0.193422</td>\n",
       "      <td>118.7610</td>\n",
       "      <td>153.2052</td>\n",
       "      <td>150031.2471</td>\n",
       "      <td>-0.994384</td>\n",
       "      <td>A14</td>\n",
       "      <td>Sample</td>\n",
       "      <td>ex_plate1</td>\n",
       "      <td>Compound_0012</td>\n",
       "      <td>example_library</td>\n",
       "      <td>O=C(O)c1cc(Br)cs1</td>\n",
       "      <td>NaN</td>\n",
       "      <td>NaN</td>\n",
       "    </tr>\n",
       "  </tbody>\n",
       "</table>\n",
       "</div>"
      ],
      "text/plain": [
       "   Cell Area  Cell_Count  Cell_Count_norm  Cell_Intensity_norm  Nuc Area  \\\n",
       "0   240.0466      1000.4        -0.096317            -0.219583  119.4660   \n",
       "1   240.1836      1013.4        -0.043811            -0.249819  117.1018   \n",
       "2   253.6417       860.2        -0.662577             0.108024  124.9165   \n",
       "3   249.2515       362.5        -2.672757             5.047333  112.4694   \n",
       "4   239.3896      1003.5        -0.083797            -0.193422  118.7610   \n",
       "\n",
       "        RFP      RFP_via  RFP_via_norm Well  Status      Plate    Compound_id  \\\n",
       "0  159.8797  154860.9417     -0.881503  A10  Sample  ex_plate1  Compound_0008   \n",
       "1  153.9349  153328.0654     -0.917329  A11  Sample  ex_plate1  Compound_0009   \n",
       "2  152.6865  128677.8225     -1.493461  A12  Sample  ex_plate1  Compound_0010   \n",
       "3  506.8975  180404.0444     -0.284503  A13  Sample  ex_plate1  Compound_0011   \n",
       "4  153.2052  150031.2471     -0.994384  A14  Sample  ex_plate1  Compound_0012   \n",
       "\n",
       "          lib_name                                            SMILES  \\\n",
       "0  example_library              CCOC(=O)NC(C(=O)NC(C)c1ccccc1C)C(C)C   \n",
       "1  example_library                         O=C(COC(=O)c1ccco1)NC1CC1   \n",
       "2  example_library  CCc1ccc(OCc2ccccc2C(=O)Nc2ccc3nc(C)cc(N)c3c2)cc1   \n",
       "3  example_library    CN(CC(=O)Nc1ccccc1C(=O)NCc1ccccc1)Cc1ccc(Cl)s1   \n",
       "4  example_library                                 O=C(O)c1cc(Br)cs1   \n",
       "\n",
       "  Compound Name SecName  \n",
       "0           NaN     NaN  \n",
       "1           NaN     NaN  \n",
       "2       JTC-801     NaN  \n",
       "3           NaN     NaN  \n",
       "4           NaN     NaN  "
      ]
     },
     "metadata": {},
     "output_type": "display_data"
    }
   ],
   "source": [
    "descriptors = data[['Well', 'Status', 'Plate', 'Compound_id', 'lib_name', 'SMILES', 'Compound Name', 'SecName']]\n",
    "measurements = data[['Well', 'Nuc Area', 'Cell Area', 'Cell_Count', 'Cell_Count_norm', 'Cell_Intensity_norm', \n",
    "                     'RFP', 'RFP_via', 'RFP_via_norm']]\n",
    "results = pd.DataFrame()\n",
    "\n",
    "for name, group in measurements.groupby('Well'):\n",
    "    m = group.mean()\n",
    "    m['Well'] = name\n",
    "    results  = results .append(m, ignore_index = True )\n",
    "\n",
    "results = pd.merge(results.copy(), descriptors.drop_duplicates(), how = 'left', on = 'Well')\n",
    "print(results.shape)\n",
    "display(results .head())"
   ]
  },
  {
   "cell_type": "code",
   "execution_count": 45,
   "metadata": {},
   "outputs": [
    {
     "data": {
      "image/png": "[encoded data removed]",
      "text/plain": [
       "<Figure size 1202.1x432 with 1 Axes>"
      ]
     },
     "metadata": {},
     "output_type": "display_data"
    }
   ],
   "source": [
    "pointplot_plate(df = results,  x = 'Well', y = 'RFP_via_norm',  hue = 'Status', hue_order = hue_order, \n",
    "                 threshold = threshold, ylabel = 'Activity_normalized_by_viability_wells', palette = palette,  \n",
    "                save_as = 'well_pointplot', path = path)"
   ]
  },
  {
   "cell_type": "markdown",
   "metadata": {},
   "source": [
    "### Systematic Error Correction\n",
    "<a id=\"er_cor\"></a>"
   ]
  },
  {
   "cell_type": "markdown",
   "metadata": {},
   "source": [
    "#### Estimate row effect with Welch t-test\n",
    "<a id=\"t-test\"></a>\n",
    "\n",
    "<div align=\"justify\"> Since systematic error correction methods themselves can introduce systematic bias when applied to error-free HTS data, we need first to confirm the presence or absence of systematic bias. In our case, we apply Welch’s t-test to compare each row of the assay to the rest of the rows. Hence, each time we have to divide our DataFrame into 'current_row' and 'rest_of_rows'. </div>"
   ]
  },
  {
   "cell_type": "code",
   "execution_count": 46,
   "metadata": {},
   "outputs": [
    {
     "data": {
      "text/html": [
       "<div>\n",
       "<style scoped>\n",
       "    .dataframe tbody tr th:only-of-type {\n",
       "        vertical-align: middle;\n",
       "    }\n",
       "\n",
       "    .dataframe tbody tr th {\n",
       "        vertical-align: top;\n",
       "    }\n",
       "\n",
       "    .dataframe thead th {\n",
       "        text-align: right;\n",
       "    }\n",
       "</style>\n",
       "<table border=\"1\" class=\"dataframe\">\n",
       "  <thead>\n",
       "    <tr style=\"text-align: right;\">\n",
       "      <th></th>\n",
       "      <th>row</th>\n",
       "      <th>statistics</th>\n",
       "      <th>p-value</th>\n",
       "    </tr>\n",
       "  </thead>\n",
       "  <tbody>\n",
       "    <tr>\n",
       "      <th>0</th>\n",
       "      <td>A</td>\n",
       "      <td>-8.41</td>\n",
       "      <td>0.0000</td>\n",
       "    </tr>\n",
       "    <tr>\n",
       "      <th>1</th>\n",
       "      <td>B</td>\n",
       "      <td>-19.75</td>\n",
       "      <td>0.0000</td>\n",
       "    </tr>\n",
       "    <tr>\n",
       "      <th>2</th>\n",
       "      <td>C</td>\n",
       "      <td>-9.31</td>\n",
       "      <td>0.0000</td>\n",
       "    </tr>\n",
       "    <tr>\n",
       "      <th>3</th>\n",
       "      <td>D</td>\n",
       "      <td>-5.60</td>\n",
       "      <td>0.0000</td>\n",
       "    </tr>\n",
       "    <tr>\n",
       "      <th>4</th>\n",
       "      <td>E</td>\n",
       "      <td>-3.02</td>\n",
       "      <td>0.0045</td>\n",
       "    </tr>\n",
       "    <tr>\n",
       "      <th>5</th>\n",
       "      <td>F</td>\n",
       "      <td>-2.43</td>\n",
       "      <td>0.0172</td>\n",
       "    </tr>\n",
       "    <tr>\n",
       "      <th>6</th>\n",
       "      <td>G</td>\n",
       "      <td>0.05</td>\n",
       "      <td>0.9613</td>\n",
       "    </tr>\n",
       "    <tr>\n",
       "      <th>7</th>\n",
       "      <td>H</td>\n",
       "      <td>-0.82</td>\n",
       "      <td>0.4224</td>\n",
       "    </tr>\n",
       "    <tr>\n",
       "      <th>8</th>\n",
       "      <td>I</td>\n",
       "      <td>1.37</td>\n",
       "      <td>0.1764</td>\n",
       "    </tr>\n",
       "    <tr>\n",
       "      <th>9</th>\n",
       "      <td>J</td>\n",
       "      <td>2.33</td>\n",
       "      <td>0.0258</td>\n",
       "    </tr>\n",
       "    <tr>\n",
       "      <th>10</th>\n",
       "      <td>K</td>\n",
       "      <td>0.77</td>\n",
       "      <td>0.4476</td>\n",
       "    </tr>\n",
       "    <tr>\n",
       "      <th>11</th>\n",
       "      <td>L</td>\n",
       "      <td>3.90</td>\n",
       "      <td>0.0005</td>\n",
       "    </tr>\n",
       "    <tr>\n",
       "      <th>12</th>\n",
       "      <td>M</td>\n",
       "      <td>8.82</td>\n",
       "      <td>0.0000</td>\n",
       "    </tr>\n",
       "    <tr>\n",
       "      <th>13</th>\n",
       "      <td>N</td>\n",
       "      <td>2.87</td>\n",
       "      <td>0.0083</td>\n",
       "    </tr>\n",
       "    <tr>\n",
       "      <th>14</th>\n",
       "      <td>O</td>\n",
       "      <td>7.98</td>\n",
       "      <td>0.0000</td>\n",
       "    </tr>\n",
       "    <tr>\n",
       "      <th>15</th>\n",
       "      <td>P</td>\n",
       "      <td>10.97</td>\n",
       "      <td>0.0000</td>\n",
       "    </tr>\n",
       "  </tbody>\n",
       "</table>\n",
       "</div>"
      ],
      "text/plain": [
       "   row  statistics  p-value\n",
       "0    A       -8.41   0.0000\n",
       "1    B      -19.75   0.0000\n",
       "2    C       -9.31   0.0000\n",
       "3    D       -5.60   0.0000\n",
       "4    E       -3.02   0.0045\n",
       "5    F       -2.43   0.0172\n",
       "6    G        0.05   0.9613\n",
       "7    H       -0.82   0.4224\n",
       "8    I        1.37   0.1764\n",
       "9    J        2.33   0.0258\n",
       "10   K        0.77   0.4476\n",
       "11   L        3.90   0.0005\n",
       "12   M        8.82   0.0000\n",
       "13   N        2.87   0.0083\n",
       "14   O        7.98   0.0000\n",
       "15   P       10.97   0.0000"
      ]
     },
     "metadata": {},
     "output_type": "display_data"
    }
   ],
   "source": [
    "from scipy import stats\n",
    "rows = ['A', 'B', 'C', 'D', 'E', 'F', 'G', 'H', 'I','J','K', 'L', 'M', 'N', 'O', 'P']\n",
    "t = pd.DataFrame(columns = ['row', 'statistics', 'p-value'])\n",
    "\n",
    "for r in rows:\n",
    "    \n",
    "    # statisticcs for current row\n",
    "    cur_row_mean = results.copy().set_index('Well').filter(regex = '^((' + r + ').*)*$', axis = 0)[['RFP_via_norm']].mean()[0]\n",
    "    cur_row_std = results.copy().set_index('Well').filter(regex = '^((' + r + ').*)*$', axis = 0)[['RFP_via_norm']].std()[0]\n",
    "    cur_row_n = results.copy().set_index('Well').filter(regex = '^((' + r + ').*)*$', axis = 0).shape[0]\n",
    "\n",
    "    # statistics for rest of the plate\n",
    "    rest_mean = results.copy().set_index('Well').filter(regex = '^((?!' + r + ').*)*$', axis = 0)[['RFP_via_norm']].mean()[0]\n",
    "    rest_std = results.copy().set_index('Well').filter(regex = '^((?!' + r + ').*)*$', axis = 0)[['RFP_via_norm']].std()[0]\n",
    "    rest_n = results.copy().set_index('Well').filter(regex = '^((?!' + r + ').*)*$', axis = 0).shape[0]\n",
    "\n",
    "    t_score = stats.ttest_ind_from_stats(mean1 = cur_row_mean, std1 = cur_row_std, nobs1 = cur_row_n, \\\n",
    "                                   mean2 = rest_mean, std2 = rest_std, nobs2 = rest_n, equal_var = False)\n",
    "    t = t.append({'row':r, 'statistics': round(t_score[0],2), 'p-value':round(t_score[1],4)}, ignore_index = True)\n",
    "\n",
    "display(t)"
   ]
  },
  {
   "cell_type": "markdown",
   "metadata": {},
   "source": [
    "<div align=\"justify\"> The p-value less than 0.05 means that there is less than a 5% chance of finding the observed values from row 'A' given the data from the rest of the plate. Hence we should reject the null hypothesis that row 'A' does not contain a systematic error. In our plate, rows A-F and L-P contain significant systematic errors, so we can apply a correction. </div>"
   ]
  },
  {
   "cell_type": "markdown",
   "metadata": {},
   "source": [
    "<div class=\"alert alert-block alert-info\"><b>Tip:</b> Scipy calculates p-value based on the two tailed case. If we just want the p-value of the one-tail, we can divide this value by 2. </div>"
   ]
  },
  {
   "cell_type": "markdown",
   "metadata": {},
   "source": [
    "### Median Polish Normalization\n",
    "<a id=\"import\"></a>"
   ]
  },
  {
   "cell_type": "markdown",
   "metadata": {},
   "source": [
    "Our data contains 368 rows(wells) so that we need to add 16 missing wells to get the standard 384 well plate pattern. \n",
    " - Add missing wells to the results DataFrame to get 384 rows.\n",
    " - Fill NaN values in the missing rows with plate sample mean.\n",
    " - Extract RFP_via values and reshape to get 2D matrix in the form of the plate (16x24).\n",
    " - Calculate gradient pattern using median polish algorithm.\n",
    " - Subtract gradient pattern from the original matrix."
   ]
  },
  {
   "cell_type": "code",
   "execution_count": 47,
   "metadata": {},
   "outputs": [
    {
     "name": "stdout",
     "output_type": "stream",
     "text": [
      "163002.2193857143\n",
      "(384, 16)\n"
     ]
    },
    {
     "data": {
      "text/html": [
       "<div>\n",
       "<style scoped>\n",
       "    .dataframe tbody tr th:only-of-type {\n",
       "        vertical-align: middle;\n",
       "    }\n",
       "\n",
       "    .dataframe tbody tr th {\n",
       "        vertical-align: top;\n",
       "    }\n",
       "\n",
       "    .dataframe thead th {\n",
       "        text-align: right;\n",
       "    }\n",
       "</style>\n",
       "<table border=\"1\" class=\"dataframe\">\n",
       "  <thead>\n",
       "    <tr style=\"text-align: right;\">\n",
       "      <th></th>\n",
       "      <th>Well</th>\n",
       "      <th>Cell Area</th>\n",
       "      <th>Cell_Count</th>\n",
       "      <th>Cell_Count_norm</th>\n",
       "      <th>Cell_Intensity_norm</th>\n",
       "      <th>Nuc Area</th>\n",
       "      <th>RFP</th>\n",
       "      <th>RFP_via</th>\n",
       "      <th>RFP_via_norm</th>\n",
       "      <th>Status</th>\n",
       "      <th>Plate</th>\n",
       "      <th>Compound_id</th>\n",
       "      <th>lib_name</th>\n",
       "      <th>SMILES</th>\n",
       "      <th>Compound Name</th>\n",
       "      <th>SecName</th>\n",
       "    </tr>\n",
       "  </thead>\n",
       "  <tbody>\n",
       "    <tr>\n",
       "      <th>0</th>\n",
       "      <td>A1</td>\n",
       "      <td>NaN</td>\n",
       "      <td>NaN</td>\n",
       "      <td>NaN</td>\n",
       "      <td>NaN</td>\n",
       "      <td>NaN</td>\n",
       "      <td>NaN</td>\n",
       "      <td>163002.219386</td>\n",
       "      <td>NaN</td>\n",
       "      <td>NaN</td>\n",
       "      <td>NaN</td>\n",
       "      <td>NaN</td>\n",
       "      <td>NaN</td>\n",
       "      <td>NaN</td>\n",
       "      <td>NaN</td>\n",
       "      <td>NaN</td>\n",
       "    </tr>\n",
       "    <tr>\n",
       "      <th>1</th>\n",
       "      <td>A2</td>\n",
       "      <td>NaN</td>\n",
       "      <td>NaN</td>\n",
       "      <td>NaN</td>\n",
       "      <td>NaN</td>\n",
       "      <td>NaN</td>\n",
       "      <td>NaN</td>\n",
       "      <td>163002.219386</td>\n",
       "      <td>NaN</td>\n",
       "      <td>NaN</td>\n",
       "      <td>NaN</td>\n",
       "      <td>NaN</td>\n",
       "      <td>NaN</td>\n",
       "      <td>NaN</td>\n",
       "      <td>NaN</td>\n",
       "      <td>NaN</td>\n",
       "    </tr>\n",
       "    <tr>\n",
       "      <th>2</th>\n",
       "      <td>A3</td>\n",
       "      <td>241.9437</td>\n",
       "      <td>958.3</td>\n",
       "      <td>-0.266357</td>\n",
       "      <td>-0.467907</td>\n",
       "      <td>118.5758</td>\n",
       "      <td>136.0127</td>\n",
       "      <td>127725.254200</td>\n",
       "      <td>-1.515725</td>\n",
       "      <td>Sample</td>\n",
       "      <td>ex_plate1</td>\n",
       "      <td>Compound_0001</td>\n",
       "      <td>example_library</td>\n",
       "      <td>Cc1nn(C)c2nc(C(C)C)cc(C(=O)N3CCN(C(=O)C4CC4)CC...</td>\n",
       "      <td>NaN</td>\n",
       "      <td>NaN</td>\n",
       "    </tr>\n",
       "    <tr>\n",
       "      <th>3</th>\n",
       "      <td>A4</td>\n",
       "      <td>241.9965</td>\n",
       "      <td>993.9</td>\n",
       "      <td>-0.122570</td>\n",
       "      <td>-0.381945</td>\n",
       "      <td>117.3357</td>\n",
       "      <td>147.4671</td>\n",
       "      <td>145064.780600</td>\n",
       "      <td>-1.110461</td>\n",
       "      <td>Sample</td>\n",
       "      <td>ex_plate1</td>\n",
       "      <td>Compound_0002</td>\n",
       "      <td>example_library</td>\n",
       "      <td>CCOC(=O)c1c(S(=O)(=O)N2CCOCC2)c(-c2ccccc2)n(-c...</td>\n",
       "      <td>NaN</td>\n",
       "      <td>NaN</td>\n",
       "    </tr>\n",
       "    <tr>\n",
       "      <th>4</th>\n",
       "      <td>A5</td>\n",
       "      <td>245.2987</td>\n",
       "      <td>1014.5</td>\n",
       "      <td>-0.039368</td>\n",
       "      <td>-0.778158</td>\n",
       "      <td>114.4257</td>\n",
       "      <td>129.7085</td>\n",
       "      <td>128303.111300</td>\n",
       "      <td>-1.502219</td>\n",
       "      <td>Sample</td>\n",
       "      <td>ex_plate1</td>\n",
       "      <td>Compound_0003</td>\n",
       "      <td>example_library</td>\n",
       "      <td>Cn1nc(-c2ccc(C=C(C#N)S(=O)(=O)c3ccc(C(F)(F)F)c...</td>\n",
       "      <td>NaN</td>\n",
       "      <td>NaN</td>\n",
       "    </tr>\n",
       "  </tbody>\n",
       "</table>\n",
       "</div>"
      ],
      "text/plain": [
       "  Well  Cell Area  Cell_Count  Cell_Count_norm  Cell_Intensity_norm  Nuc Area  \\\n",
       "0   A1        NaN         NaN              NaN                  NaN       NaN   \n",
       "1   A2        NaN         NaN              NaN                  NaN       NaN   \n",
       "2   A3   241.9437       958.3        -0.266357            -0.467907  118.5758   \n",
       "3   A4   241.9965       993.9        -0.122570            -0.381945  117.3357   \n",
       "4   A5   245.2987      1014.5        -0.039368            -0.778158  114.4257   \n",
       "\n",
       "        RFP        RFP_via  RFP_via_norm  Status      Plate    Compound_id  \\\n",
       "0       NaN  163002.219386           NaN     NaN        NaN            NaN   \n",
       "1       NaN  163002.219386           NaN     NaN        NaN            NaN   \n",
       "2  136.0127  127725.254200     -1.515725  Sample  ex_plate1  Compound_0001   \n",
       "3  147.4671  145064.780600     -1.110461  Sample  ex_plate1  Compound_0002   \n",
       "4  129.7085  128303.111300     -1.502219  Sample  ex_plate1  Compound_0003   \n",
       "\n",
       "          lib_name                                             SMILES  \\\n",
       "0              NaN                                                NaN   \n",
       "1              NaN                                                NaN   \n",
       "2  example_library  Cc1nn(C)c2nc(C(C)C)cc(C(=O)N3CCN(C(=O)C4CC4)CC...   \n",
       "3  example_library  CCOC(=O)c1c(S(=O)(=O)N2CCOCC2)c(-c2ccccc2)n(-c...   \n",
       "4  example_library  Cn1nc(-c2ccc(C=C(C#N)S(=O)(=O)c3ccc(C(F)(F)F)c...   \n",
       "\n",
       "  Compound Name SecName  \n",
       "0           NaN     NaN  \n",
       "1           NaN     NaN  \n",
       "2           NaN     NaN  \n",
       "3           NaN     NaN  \n",
       "4           NaN     NaN  "
      ]
     },
     "metadata": {},
     "output_type": "display_data"
    }
   ],
   "source": [
    "# add missing wells from the layout file\n",
    "all_wells = pd.DataFrame({'Well':np.asarray(pd.ExcelFile(layout_path).parse('Well')).reshape(-1)})\n",
    "results = pd.merge(all_wells, results, how = 'left', on ='Well')\n",
    "\n",
    "# calculate red_via_norm samples mean\n",
    "samples = results[results['Status'] == 'Sample'].dropna() \n",
    "mean = samples['RFP_via'].mean()\n",
    "print(mean)\n",
    "\n",
    "# fill missing red_via_norm values with the mean of samples\n",
    "results['RFP_via'] = results['RFP_via'].fillna(mean)\n",
    "\n",
    "print(results.shape)\n",
    "display(results.head())"
   ]
  },
  {
   "cell_type": "markdown",
   "metadata": {},
   "source": [
    "#### Extract rev_via_norm values and reshape to get 2D matrix in the form of the plate (16x24)."
   ]
  },
  {
   "cell_type": "code",
   "execution_count": 48,
   "metadata": {},
   "outputs": [
    {
     "name": "stdout",
     "output_type": "stream",
     "text": [
      "(16, 24)\n"
     ]
    }
   ],
   "source": [
    "rfp_arr = results['RFP_via'].values.reshape(16, 24)\n",
    "print(rfp_arr.shape)"
   ]
  },
  {
   "cell_type": "markdown",
   "metadata": {},
   "source": [
    "#### Calculate and plot gradient pattern"
   ]
  },
  {
   "cell_type": "code",
   "execution_count": 49,
   "metadata": {},
   "outputs": [],
   "source": [
    "# medain polish function\n",
    "def median_polish_pattern(arr, max_iterations = 100):\n",
    "    '''Implements Tukey's median polish alghoritm for additive models'''\n",
    "    res = arr.copy()\n",
    "    for i in range(max_iterations):\n",
    "        row_medians = np.median(res,1) \n",
    "        res  -= row_medians[:,np.newaxis] \n",
    "        col_medians = np.median(res,0) \n",
    "        res -= col_medians\n",
    "    return arr-res"
   ]
  },
  {
   "cell_type": "code",
   "execution_count": 50,
   "metadata": {},
   "outputs": [
    {
     "data": {
      "text/plain": [
       "<matplotlib.axes._subplots.AxesSubplot at 0x7f31063a53c8>"
      ]
     },
     "execution_count": 50,
     "metadata": {},
     "output_type": "execute_result"
    },
    {
     "data": {
      "image/png": "[encoded data removed]",
      "text/plain": [
       "<Figure size 432x288 with 2 Axes>"
      ]
     },
     "metadata": {},
     "output_type": "display_data"
    }
   ],
   "source": [
    "pattern =  median_polish_pattern(rfp_arr) \n",
    "#plot the gradient pattern\n",
    "sns.heatmap(pattern, cmap = 'RdBu_r')"
   ]
  },
  {
   "cell_type": "markdown",
   "metadata": {},
   "source": [
    "#### Subtract gradient pattern"
   ]
  },
  {
   "cell_type": "code",
   "execution_count": 51,
   "metadata": {},
   "outputs": [],
   "source": [
    "results['mp_pattern'] = pattern.reshape(-1)\n",
    "results['RFP_via_mp'] = results['RFP_via'] - results['mp_pattern']\n",
    "results = normalize_z(results.copy(), 'RFP_via_mp')"
   ]
  },
  {
   "cell_type": "code",
   "execution_count": 52,
   "metadata": {},
   "outputs": [
    {
     "data": {
      "image/png": "[encoded data removed]",
      "text/plain": [
       "<Figure size 504x288 with 2 Axes>"
      ]
     },
     "metadata": {},
     "output_type": "display_data"
    }
   ],
   "source": [
    "hts_heatmap(df = results, layout_path = layout_path, features = ['RFP_via_mp_norm'], save_as = 'heatmap_mp.png', path = path)"
   ]
  },
  {
   "cell_type": "markdown",
   "metadata": {},
   "source": [
    "#### Select hits and plot"
   ]
  },
  {
   "cell_type": "code",
   "execution_count": 53,
   "metadata": {},
   "outputs": [
    {
     "data": {
      "text/html": [
       "<div>\n",
       "<style scoped>\n",
       "    .dataframe tbody tr th:only-of-type {\n",
       "        vertical-align: middle;\n",
       "    }\n",
       "\n",
       "    .dataframe tbody tr th {\n",
       "        vertical-align: top;\n",
       "    }\n",
       "\n",
       "    .dataframe thead th {\n",
       "        text-align: right;\n",
       "    }\n",
       "</style>\n",
       "<table border=\"1\" class=\"dataframe\">\n",
       "  <thead>\n",
       "    <tr style=\"text-align: right;\">\n",
       "      <th></th>\n",
       "      <th>Well</th>\n",
       "      <th>Cell Area</th>\n",
       "      <th>Cell_Count</th>\n",
       "      <th>Cell_Count_norm</th>\n",
       "      <th>Cell_Intensity_norm</th>\n",
       "      <th>Nuc Area</th>\n",
       "      <th>RFP</th>\n",
       "      <th>RFP_via</th>\n",
       "      <th>RFP_via_norm</th>\n",
       "      <th>Status</th>\n",
       "      <th>Plate</th>\n",
       "      <th>Compound_id</th>\n",
       "      <th>lib_name</th>\n",
       "      <th>SMILES</th>\n",
       "      <th>Compound Name</th>\n",
       "      <th>SecName</th>\n",
       "      <th>mp_pattern</th>\n",
       "      <th>RFP_via_mp</th>\n",
       "      <th>RFP_via_mp_norm</th>\n",
       "    </tr>\n",
       "  </thead>\n",
       "  <tbody>\n",
       "    <tr>\n",
       "      <th>0</th>\n",
       "      <td>A1</td>\n",
       "      <td>NaN</td>\n",
       "      <td>NaN</td>\n",
       "      <td>NaN</td>\n",
       "      <td>NaN</td>\n",
       "      <td>NaN</td>\n",
       "      <td>NaN</td>\n",
       "      <td>163002.219386</td>\n",
       "      <td>NaN</td>\n",
       "      <td>NaN</td>\n",
       "      <td>NaN</td>\n",
       "      <td>NaN</td>\n",
       "      <td>NaN</td>\n",
       "      <td>NaN</td>\n",
       "      <td>NaN</td>\n",
       "      <td>NaN</td>\n",
       "      <td>155157.707930</td>\n",
       "      <td>7844.511456</td>\n",
       "      <td>0.443314</td>\n",
       "    </tr>\n",
       "    <tr>\n",
       "      <th>1</th>\n",
       "      <td>A2</td>\n",
       "      <td>NaN</td>\n",
       "      <td>NaN</td>\n",
       "      <td>NaN</td>\n",
       "      <td>NaN</td>\n",
       "      <td>NaN</td>\n",
       "      <td>NaN</td>\n",
       "      <td>163002.219386</td>\n",
       "      <td>NaN</td>\n",
       "      <td>NaN</td>\n",
       "      <td>NaN</td>\n",
       "      <td>NaN</td>\n",
       "      <td>NaN</td>\n",
       "      <td>NaN</td>\n",
       "      <td>NaN</td>\n",
       "      <td>NaN</td>\n",
       "      <td>142700.110938</td>\n",
       "      <td>20302.108448</td>\n",
       "      <td>0.981086</td>\n",
       "    </tr>\n",
       "    <tr>\n",
       "      <th>2</th>\n",
       "      <td>A3</td>\n",
       "      <td>241.9437</td>\n",
       "      <td>958.3</td>\n",
       "      <td>-0.266357</td>\n",
       "      <td>-0.467907</td>\n",
       "      <td>118.5758</td>\n",
       "      <td>136.0127</td>\n",
       "      <td>127725.254200</td>\n",
       "      <td>-1.515725</td>\n",
       "      <td>Sample</td>\n",
       "      <td>ex_plate1</td>\n",
       "      <td>Compound_0001</td>\n",
       "      <td>example_library</td>\n",
       "      <td>Cc1nn(C)c2nc(C(C)C)cc(C(=O)N3CCN(C(=O)C4CC4)CC...</td>\n",
       "      <td>NaN</td>\n",
       "      <td>NaN</td>\n",
       "      <td>141548.888616</td>\n",
       "      <td>-13823.634416</td>\n",
       "      <td>-0.492059</td>\n",
       "    </tr>\n",
       "    <tr>\n",
       "      <th>3</th>\n",
       "      <td>A4</td>\n",
       "      <td>241.9965</td>\n",
       "      <td>993.9</td>\n",
       "      <td>-0.122570</td>\n",
       "      <td>-0.381945</td>\n",
       "      <td>117.3357</td>\n",
       "      <td>147.4671</td>\n",
       "      <td>145064.780600</td>\n",
       "      <td>-1.110461</td>\n",
       "      <td>Sample</td>\n",
       "      <td>ex_plate1</td>\n",
       "      <td>Compound_0002</td>\n",
       "      <td>example_library</td>\n",
       "      <td>CCOC(=O)c1c(S(=O)(=O)N2CCOCC2)c(-c2ccccc2)n(-c...</td>\n",
       "      <td>NaN</td>\n",
       "      <td>NaN</td>\n",
       "      <td>145154.990700</td>\n",
       "      <td>-90.210100</td>\n",
       "      <td>0.100787</td>\n",
       "    </tr>\n",
       "    <tr>\n",
       "      <th>4</th>\n",
       "      <td>A5</td>\n",
       "      <td>245.2987</td>\n",
       "      <td>1014.5</td>\n",
       "      <td>-0.039368</td>\n",
       "      <td>-0.778158</td>\n",
       "      <td>114.4257</td>\n",
       "      <td>129.7085</td>\n",
       "      <td>128303.111300</td>\n",
       "      <td>-1.502219</td>\n",
       "      <td>Sample</td>\n",
       "      <td>ex_plate1</td>\n",
       "      <td>Compound_0003</td>\n",
       "      <td>example_library</td>\n",
       "      <td>Cn1nc(-c2ccc(C=C(C#N)S(=O)(=O)c3ccc(C(F)(F)F)c...</td>\n",
       "      <td>NaN</td>\n",
       "      <td>NaN</td>\n",
       "      <td>143346.644335</td>\n",
       "      <td>-15043.533035</td>\n",
       "      <td>-0.544720</td>\n",
       "    </tr>\n",
       "  </tbody>\n",
       "</table>\n",
       "</div>"
      ],
      "text/plain": [
       "  Well  Cell Area  Cell_Count  Cell_Count_norm  Cell_Intensity_norm  Nuc Area  \\\n",
       "0   A1        NaN         NaN              NaN                  NaN       NaN   \n",
       "1   A2        NaN         NaN              NaN                  NaN       NaN   \n",
       "2   A3   241.9437       958.3        -0.266357            -0.467907  118.5758   \n",
       "3   A4   241.9965       993.9        -0.122570            -0.381945  117.3357   \n",
       "4   A5   245.2987      1014.5        -0.039368            -0.778158  114.4257   \n",
       "\n",
       "        RFP        RFP_via  RFP_via_norm  Status      Plate    Compound_id  \\\n",
       "0       NaN  163002.219386           NaN     NaN        NaN            NaN   \n",
       "1       NaN  163002.219386           NaN     NaN        NaN            NaN   \n",
       "2  136.0127  127725.254200     -1.515725  Sample  ex_plate1  Compound_0001   \n",
       "3  147.4671  145064.780600     -1.110461  Sample  ex_plate1  Compound_0002   \n",
       "4  129.7085  128303.111300     -1.502219  Sample  ex_plate1  Compound_0003   \n",
       "\n",
       "          lib_name                                             SMILES  \\\n",
       "0              NaN                                                NaN   \n",
       "1              NaN                                                NaN   \n",
       "2  example_library  Cc1nn(C)c2nc(C(C)C)cc(C(=O)N3CCN(C(=O)C4CC4)CC...   \n",
       "3  example_library  CCOC(=O)c1c(S(=O)(=O)N2CCOCC2)c(-c2ccccc2)n(-c...   \n",
       "4  example_library  Cn1nc(-c2ccc(C=C(C#N)S(=O)(=O)c3ccc(C(F)(F)F)c...   \n",
       "\n",
       "  Compound Name SecName     mp_pattern    RFP_via_mp  RFP_via_mp_norm  \n",
       "0           NaN     NaN  155157.707930   7844.511456         0.443314  \n",
       "1           NaN     NaN  142700.110938  20302.108448         0.981086  \n",
       "2           NaN     NaN  141548.888616 -13823.634416        -0.492059  \n",
       "3           NaN     NaN  145154.990700    -90.210100         0.100787  \n",
       "4           NaN     NaN  143346.644335 -15043.533035        -0.544720  "
      ]
     },
     "metadata": {},
     "output_type": "display_data"
    }
   ],
   "source": [
    "display(results.head())"
   ]
  },
  {
   "cell_type": "code",
   "execution_count": 54,
   "metadata": {},
   "outputs": [],
   "source": [
    "results['Result'] = results['Status']\n",
    "results['Result'] = np.where((results['RFP_via_mp_norm'] > threshold) & (results['Status'] =='Sample'), 'Hit', results['Result'])"
   ]
  },
  {
   "cell_type": "code",
   "execution_count": 55,
   "metadata": {},
   "outputs": [
    {
     "data": {
      "image/png": "[encoded data removed]",
      "text/plain": [
       "<Figure size 1202.1x432 with 1 Axes>"
      ]
     },
     "metadata": {},
     "output_type": "display_data"
    }
   ],
   "source": [
    "pointplot_plate(df = results,  x = 'Well', y = 'RFP_via_mp_norm',  hue = 'Result', hue_order = hue_order, \n",
    "                 threshold = threshold, ylabel = 'Activity_normalized_by_viability', palette = palette,  \n",
    "                save_as = 'well_pointplot_mp', path = path)"
   ]
  },
  {
   "cell_type": "markdown",
   "metadata": {},
   "source": [
    "### Running QC\n",
    "<a id=\"qc\"></a>"
   ]
  },
  {
   "cell_type": "code",
   "execution_count": 56,
   "metadata": {},
   "outputs": [
    {
     "data": {
      "text/html": [
       "<div>\n",
       "<style scoped>\n",
       "    .dataframe tbody tr th:only-of-type {\n",
       "        vertical-align: middle;\n",
       "    }\n",
       "\n",
       "    .dataframe tbody tr th {\n",
       "        vertical-align: top;\n",
       "    }\n",
       "\n",
       "    .dataframe thead th {\n",
       "        text-align: right;\n",
       "    }\n",
       "</style>\n",
       "<table border=\"1\" class=\"dataframe\">\n",
       "  <thead>\n",
       "    <tr style=\"text-align: right;\">\n",
       "      <th></th>\n",
       "      <th>Feature</th>\n",
       "      <th>Status</th>\n",
       "      <th>size</th>\n",
       "      <th>mean</th>\n",
       "      <th>std</th>\n",
       "      <th>var</th>\n",
       "      <th>Z_factor</th>\n",
       "      <th>SB</th>\n",
       "    </tr>\n",
       "  </thead>\n",
       "  <tbody>\n",
       "    <tr>\n",
       "      <th>0</th>\n",
       "      <td>RFP_via_mp_norm</td>\n",
       "      <td>Negative</td>\n",
       "      <td>4.0</td>\n",
       "      <td>-2.348209e-01</td>\n",
       "      <td>0.512014</td>\n",
       "      <td>0.262158</td>\n",
       "      <td>-0.7057</td>\n",
       "      <td>-4.581184</td>\n",
       "    </tr>\n",
       "    <tr>\n",
       "      <th>1</th>\n",
       "      <td>RFP_via_mp_norm</td>\n",
       "      <td>Positive</td>\n",
       "      <td>8.0</td>\n",
       "      <td>1.075758e+00</td>\n",
       "      <td>0.233137</td>\n",
       "      <td>0.054353</td>\n",
       "      <td>-0.7057</td>\n",
       "      <td>-4.581184</td>\n",
       "    </tr>\n",
       "    <tr>\n",
       "      <th>2</th>\n",
       "      <td>RFP_via_mp_norm</td>\n",
       "      <td>Sample</td>\n",
       "      <td>356.0</td>\n",
       "      <td>-1.715232e-17</td>\n",
       "      <td>1.000000</td>\n",
       "      <td>1.000000</td>\n",
       "      <td>-0.7057</td>\n",
       "      <td>-4.581184</td>\n",
       "    </tr>\n",
       "  </tbody>\n",
       "</table>\n",
       "</div>"
      ],
      "text/plain": [
       "           Feature    Status   size          mean       std       var  \\\n",
       "0  RFP_via_mp_norm  Negative    4.0 -2.348209e-01  0.512014  0.262158   \n",
       "1  RFP_via_mp_norm  Positive    8.0  1.075758e+00  0.233137  0.054353   \n",
       "2  RFP_via_mp_norm    Sample  356.0 -1.715232e-17  1.000000  1.000000   \n",
       "\n",
       "   Z_factor        SB  \n",
       "0   -0.7057 -4.581184  \n",
       "1   -0.7057 -4.581184  \n",
       "2   -0.7057 -4.581184  "
      ]
     },
     "metadata": {},
     "output_type": "display_data"
    },
    {
     "data": {
      "image/png": "[encoded data removed]",
      "text/plain": [
       "<Figure size 432x288 with 1 Axes>"
      ]
     },
     "metadata": {},
     "output_type": "display_data"
    }
   ],
   "source": [
    "#calculate statistics\n",
    "stats = sum_statistics(df = results, feature = 'RFP_via_mp_norm')\n",
    "stats.to_csv(path + '//sum_statistics.csv', index = False)\n",
    "display(stats)\n",
    "    \n",
    "# histogram\n",
    "histogram_feature(df = results, feature = 'RFP_via_mp_norm', save_as = 'histogram_mp.png', path = path)"
   ]
  },
  {
   "cell_type": "markdown",
   "metadata": {},
   "source": [
    "#### Create hits table"
   ]
  },
  {
   "cell_type": "code",
   "execution_count": 57,
   "metadata": {},
   "outputs": [
    {
     "data": {
      "text/html": [
       "<div>\n",
       "<style scoped>\n",
       "    .dataframe tbody tr th:only-of-type {\n",
       "        vertical-align: middle;\n",
       "    }\n",
       "\n",
       "    .dataframe tbody tr th {\n",
       "        vertical-align: top;\n",
       "    }\n",
       "\n",
       "    .dataframe thead th {\n",
       "        text-align: right;\n",
       "    }\n",
       "</style>\n",
       "<table border=\"1\" class=\"dataframe\">\n",
       "  <thead>\n",
       "    <tr style=\"text-align: right;\">\n",
       "      <th></th>\n",
       "      <th>Well</th>\n",
       "      <th>Cell Area</th>\n",
       "      <th>Cell_Count</th>\n",
       "      <th>Cell_Count_norm</th>\n",
       "      <th>Cell_Intensity_norm</th>\n",
       "      <th>Nuc Area</th>\n",
       "      <th>RFP</th>\n",
       "      <th>RFP_via</th>\n",
       "      <th>RFP_via_norm</th>\n",
       "      <th>Status</th>\n",
       "      <th>Plate</th>\n",
       "      <th>Compound_id</th>\n",
       "      <th>lib_name</th>\n",
       "      <th>SMILES</th>\n",
       "      <th>Compound Name</th>\n",
       "      <th>SecName</th>\n",
       "      <th>mp_pattern</th>\n",
       "      <th>RFP_via_mp</th>\n",
       "      <th>RFP_via_mp_norm</th>\n",
       "      <th>Result</th>\n",
       "    </tr>\n",
       "  </thead>\n",
       "  <tbody>\n",
       "    <tr>\n",
       "      <th>221</th>\n",
       "      <td>J6</td>\n",
       "      <td>176.5431</td>\n",
       "      <td>281.0</td>\n",
       "      <td>-3.001931</td>\n",
       "      <td>5.061900</td>\n",
       "      <td>88.8174</td>\n",
       "      <td>896.6488</td>\n",
       "      <td>264085.5697</td>\n",
       "      <td>1.671324</td>\n",
       "      <td>Sample</td>\n",
       "      <td>ex_plate1</td>\n",
       "      <td>Compound_0183</td>\n",
       "      <td>example_library</td>\n",
       "      <td>COc1ccccc1-n1cnnc1SCC(=O)NC(C)c1ccc(Cl)cc1Cl</td>\n",
       "      <td>NaN</td>\n",
       "      <td>NaN</td>\n",
       "      <td>198680.710690</td>\n",
       "      <td>65404.859010</td>\n",
       "      <td>2.928087</td>\n",
       "      <td>Hit</td>\n",
       "    </tr>\n",
       "    <tr>\n",
       "      <th>282</th>\n",
       "      <td>L19</td>\n",
       "      <td>202.4229</td>\n",
       "      <td>958.1</td>\n",
       "      <td>-0.267165</td>\n",
       "      <td>0.276892</td>\n",
       "      <td>109.4225</td>\n",
       "      <td>278.2538</td>\n",
       "      <td>263620.8038</td>\n",
       "      <td>1.660461</td>\n",
       "      <td>Sample</td>\n",
       "      <td>ex_plate1</td>\n",
       "      <td>Compound_0236</td>\n",
       "      <td>example_library</td>\n",
       "      <td>Cn1ncc(C(N)=O)c1[N+](=O)[O-]</td>\n",
       "      <td>NaN</td>\n",
       "      <td>NaN</td>\n",
       "      <td>210821.174490</td>\n",
       "      <td>52799.629310</td>\n",
       "      <td>2.383943</td>\n",
       "      <td>Hit</td>\n",
       "    </tr>\n",
       "    <tr>\n",
       "      <th>333</th>\n",
       "      <td>N22</td>\n",
       "      <td>198.4323</td>\n",
       "      <td>1046.0</td>\n",
       "      <td>0.087858</td>\n",
       "      <td>0.029306</td>\n",
       "      <td>106.0138</td>\n",
       "      <td>326.7301</td>\n",
       "      <td>334343.7831</td>\n",
       "      <td>3.313417</td>\n",
       "      <td>Sample</td>\n",
       "      <td>ex_plate1</td>\n",
       "      <td>Compound_0279</td>\n",
       "      <td>example_library</td>\n",
       "      <td>NC(=O)C1=CN(C(=O)Nc2ccc(Cl)cc2Cl)CCC1C(F)(F)F</td>\n",
       "      <td>NaN</td>\n",
       "      <td>NaN</td>\n",
       "      <td>238458.378067</td>\n",
       "      <td>95885.405033</td>\n",
       "      <td>4.243875</td>\n",
       "      <td>Hit</td>\n",
       "    </tr>\n",
       "  </tbody>\n",
       "</table>\n",
       "</div>"
      ],
      "text/plain": [
       "    Well  Cell Area  Cell_Count  Cell_Count_norm  Cell_Intensity_norm  \\\n",
       "221   J6   176.5431       281.0        -3.001931             5.061900   \n",
       "282  L19   202.4229       958.1        -0.267165             0.276892   \n",
       "333  N22   198.4323      1046.0         0.087858             0.029306   \n",
       "\n",
       "     Nuc Area       RFP      RFP_via  RFP_via_norm  Status      Plate  \\\n",
       "221   88.8174  896.6488  264085.5697      1.671324  Sample  ex_plate1   \n",
       "282  109.4225  278.2538  263620.8038      1.660461  Sample  ex_plate1   \n",
       "333  106.0138  326.7301  334343.7831      3.313417  Sample  ex_plate1   \n",
       "\n",
       "       Compound_id         lib_name  \\\n",
       "221  Compound_0183  example_library   \n",
       "282  Compound_0236  example_library   \n",
       "333  Compound_0279  example_library   \n",
       "\n",
       "                                            SMILES Compound Name SecName  \\\n",
       "221   COc1ccccc1-n1cnnc1SCC(=O)NC(C)c1ccc(Cl)cc1Cl           NaN     NaN   \n",
       "282                   Cn1ncc(C(N)=O)c1[N+](=O)[O-]           NaN     NaN   \n",
       "333  NC(=O)C1=CN(C(=O)Nc2ccc(Cl)cc2Cl)CCC1C(F)(F)F           NaN     NaN   \n",
       "\n",
       "        mp_pattern    RFP_via_mp  RFP_via_mp_norm Result  \n",
       "221  198680.710690  65404.859010         2.928087    Hit  \n",
       "282  210821.174490  52799.629310         2.383943    Hit  \n",
       "333  238458.378067  95885.405033         4.243875    Hit  "
      ]
     },
     "metadata": {},
     "output_type": "display_data"
    }
   ],
   "source": [
    "hits = results[results['Result'] == 'Hit']\n",
    "display(hits)"
   ]
  },
  {
   "cell_type": "markdown",
   "metadata": {},
   "source": [
    "<div align=\"justify\"> Depending on goals and experimental systems, you may want to select more hits by lowering the threshold and analyze them by another assay (confirmation assay).</div>"
   ]
  },
  {
   "cell_type": "markdown",
   "metadata": {},
   "source": [
    "#### Save results to csv\n",
    "<a id=\"save\"></a>"
   ]
  },
  {
   "cell_type": "code",
   "execution_count": 58,
   "metadata": {},
   "outputs": [],
   "source": [
    "results.to_csv(path + '//image_screen_results.csv', index = False)\n",
    "hits.to_csv(path + '//image_screen_hits.csv', index = False)"
   ]
  },
  {
   "cell_type": "markdown",
   "metadata": {},
   "source": [
    "#### Create ppt report and clean output folder"
   ]
  },
  {
   "cell_type": "code",
   "execution_count": 59,
   "metadata": {},
   "outputs": [],
   "source": [
    "report = create_presentation(path).save(path +'//image_screen_report.pptx')"
   ]
  },
  {
   "cell_type": "code",
   "execution_count": 60,
   "metadata": {},
   "outputs": [],
   "source": [
    "# Clean output directory\n",
    "for f in os.listdir(path):\n",
    "    if '.png' in f:\n",
    "        os.remove(path +'//' + f)\n",
    "os.remove(path + '//sum_statistics.csv')"
   ]
  },
  {
   "cell_type": "markdown",
   "metadata": {},
   "source": [
    "### Conclusions\n",
    "<a id=\"conclusions\"></a>\n",
    "\n",
    "The success of HTS strategies depends on the effectiveness of both normalization methods and study design. In our assay, initial background normalization of intensities was performed at the level of image analysis software.\n",
    "Then, in this tutorial we performed multiple normalization steps:  \n",
    "  - viability-normalization\n",
    "  - systematic-error correction using median polish algorithm \n",
    "  - z-score normalization\n",
    "\n",
    "In pnenotypic screening, multiplexing imaging approach allows us to measure functional readouts (in our case RFP fluorescence) in line with other functional or structural changes in the cell, as well as with cell viability\\cell count. Here we used combination of RFP fluorescence and cell viability, which allowed us to reject toxic compounds at this early stage and focus on more promising hits.  We will continie this experiment in 'imaging based dose response' notebook. \n",
    "\n"
   ]
  }
 ],
 "metadata": {
  "kernelspec": {
   "display_name": "Python 3",
   "language": "python",
   "name": "python3"
  },
  "language_info": {
   "codemirror_mode": {
    "name": "ipython",
    "version": 3
   },
   "file_extension": ".py",
   "mimetype": "text/x-python",
   "name": "python",
   "nbconvert_exporter": "python",
   "pygments_lexer": "ipython3",
   "version": "3.6.10"
  }
 },
 "nbformat": 4,
 "nbformat_minor": 2
}
